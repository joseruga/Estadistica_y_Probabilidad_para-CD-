{
  "cells": [
    {
      "cell_type": "markdown",
      "metadata": {
        "id": "view-in-github",
        "colab_type": "text"
      },
      "source": [
        "<a href=\"https://colab.research.google.com/github/joseruga/Estadistica_y_Probabilidad_para-CD-/blob/main/Semana6/Metropolis_Hastings_para_decifrar_textos.ipynb\" target=\"_parent\"><img src=\"https://colab.research.google.com/assets/colab-badge.svg\" alt=\"Open In Colab\"/></a>"
      ]
    },
    {
      "cell_type": "markdown",
      "source": [
        "<h2> Algoritmo Metropolis Hastings para decifrar textos <h2>"
      ],
      "metadata": {
        "id": "pcOPv-kLJtr-"
      }
    },
    {
      "cell_type": "markdown",
      "source": [
        "El presente código es una adaptación del presentado en [este repositorio](https://github.com/svivek/mcmc-decoding-example)\n",
        "\n",
        "El ejemplo está inspirado en la historia descrita en [The Markov Chain Monte Carlo Revolution](https://www.ams.org/journals/bull/2009-46-02/S0273-0979-08-01238-X/S0273-0979-08-01238-X.pdf). \n",
        "\n",
        "\n",
        "\n",
        "\n",
        "\n"
      ],
      "metadata": {
        "id": "m2c49PEl_WQX"
      }
    },
    {
      "cell_type": "markdown",
      "source": [
        "<img src='https://pbs.twimg.com/media/DnJnUCpWwAAmPnR.jpg'>\n",
        "\n"
      ],
      "metadata": {
        "id": "9rAkajXnMFh2"
      }
    },
    {
      "cell_type": "markdown",
      "source": [
        "El objetivo es decifrar los mensajes intercambiados por prisioneros, con la conjetura de que cada simbolo representa una letra o simbolo del lenguaje. La tarea es pues, encontrar ese diccionario o **clave** para codificar y decodificar los mensajes."
      ],
      "metadata": {
        "id": "XijkPSiDM0Fk"
      }
    },
    {
      "cell_type": "markdown",
      "metadata": {
        "id": "_riLxoAeYr7Z"
      },
      "source": [
        "## Cifrado por sustitución\n",
        "\n",
        "Es un método de cifrado para codificarr y decodificar mensajes usando una clave que relaciona una letra o simbolo por otro.\n",
        "\n",
        "Como ejemplo, se puede suponer que la clave de un cifrado está contenida en la siguiente tabla:\n",
        "\n",
        "|original | codificado |\n",
        "|---------|------------|\n",
        "|a        | z          |\n",
        "|n        | 4          |\n",
        "|l        | 5          |\n",
        "|i        | a          |\n",
        "|s        | 8          |\n",
        "\n",
        "De manera que la palabra  `analisis` puede ser codificada como `z4z5a8a8`. "
      ]
    },
    {
      "cell_type": "code",
      "execution_count": 49,
      "metadata": {
        "id": "vjSokWDdYr7a"
      },
      "outputs": [],
      "source": [
        "def code(text, key): \n",
        "    return ''.join(list(map(lambda char: key[char], text)))"
      ]
    },
    {
      "cell_type": "code",
      "execution_count": 2,
      "metadata": {
        "id": "9yvaXh0HYr7b",
        "outputId": "faf414a9-3efe-4a1b-bbfe-3a0b4a634cf4",
        "colab": {
          "base_uri": "https://localhost:8080/",
          "height": 35
        }
      },
      "outputs": [
        {
          "output_type": "execute_result",
          "data": {
            "text/plain": [
              "'z4z5a8a8'"
            ],
            "application/vnd.google.colaboratory.intrinsic+json": {
              "type": "string"
            }
          },
          "metadata": {},
          "execution_count": 2
        }
      ],
      "source": [
        "clave = {'a': 'z', 'n': '4', 'l': '5', 'i': 'a', 's':'8'}\n",
        "code('analisis', clave)"
      ]
    },
    {
      "cell_type": "markdown",
      "metadata": {
        "id": "c_UZ88W1Yr7b"
      },
      "source": [
        "Y podemos decodificar la palabra usando la clave inversa:"
      ]
    },
    {
      "cell_type": "code",
      "execution_count": 3,
      "metadata": {
        "id": "LcUu-sPUYr7c",
        "outputId": "3c8c6a75-11dd-4975-9d0e-78152581e6d9",
        "colab": {
          "base_uri": "https://localhost:8080/",
          "height": 35
        }
      },
      "outputs": [
        {
          "output_type": "execute_result",
          "data": {
            "text/plain": [
              "'analisis'"
            ],
            "application/vnd.google.colaboratory.intrinsic+json": {
              "type": "string"
            }
          },
          "metadata": {},
          "execution_count": 3
        }
      ],
      "source": [
        "inv_clave = {v : k for k, v in clave.items()}\n",
        "code('z4z5a8a8', inv_clave)"
      ]
    },
    {
      "cell_type": "markdown",
      "source": [
        "#¿Cómo encontrar una clave adecuada?"
      ],
      "metadata": {
        "id": "E-i6-jl7B9VI"
      }
    },
    {
      "cell_type": "markdown",
      "source": [
        "Si consideramos solamente el espacio en blanco, las letras en minúscula, y los números estamos hablando de 38 simbolos, y por tanto el espacio muestral en el que vive la clave es enorme."
      ],
      "metadata": {
        "id": "mvaozz-9CeDi"
      }
    },
    {
      "cell_type": "code",
      "execution_count": 4,
      "metadata": {
        "colab": {
          "base_uri": "https://localhost:8080/"
        },
        "id": "GOp3ZBIRCUHc",
        "outputId": "18411baa-a122-417e-e18a-a5b8e3426775"
      },
      "outputs": [
        {
          "output_type": "stream",
          "name": "stdout",
          "text": [
            "Total de simbolos considerados: 38\n",
            "Tamaño del espacio muestral en el que vive la clave que buscamos 523022617466601111760007224100074291200000000\n"
          ]
        }
      ],
      "source": [
        "alphabet = \"abcdefghijklmnñopqrstuvwxyz0123456789 \"\n",
        "\n",
        "print('Total de simbolos considerados:', len(alphabet))\n",
        "\n",
        "from math import factorial\n",
        "print('Tamaño del espacio muestral en el que vive la clave que buscamos', factorial(38))"
      ]
    },
    {
      "cell_type": "markdown",
      "source": [
        "Supondremos que el lenguaje de los mensajes cifrados es el español, por tanto utilizaremos como guía las probabilidades de transición de los carácteres en español."
      ],
      "metadata": {
        "id": "tf1C0WnpE3Id"
      }
    },
    {
      "cell_type": "markdown",
      "metadata": {
        "id": "EuVUH6gFYr7c"
      },
      "source": [
        "# Calificación de las claves candidatas"
      ]
    },
    {
      "cell_type": "markdown",
      "metadata": {
        "id": "8NO4d3U3Yr7d"
      },
      "source": [
        "Para cada secuencia de caracteres $c_1c_2c_3\\cdots c_n$, estimaresmos su probabilidad de la siguiente manera\n",
        "\n",
        "$$P(c_1c_2c_3\\cdots c_n) = P(c_1) P(c_2 \\mid c_1) P(c_3 \\mid c_2) \\cdots P(c_n \\mid c_{n-1})$$\n",
        "\n",
        "Así, la probabilidad de la palabra `analisis` se calcularía como \n",
        "\n",
        " $P(a)~P(n \\mid a)P(a \\mid n)P(l \\mid a)P(i \\mid l)P(s \\mid i)P(i \\mid s)P(s \\mid i)$.\n",
        "\n",
        "Para hacer lo anterior necesitamos una matriz de transición de una caracter a otro, y en este sentido, para facilitar el análisis,  ignoraremos el primer caracter porque no hará practicamente diferencia en una secuencia larga."
      ]
    },
    {
      "cell_type": "markdown",
      "metadata": {
        "id": "c6fNYo80Yr7e"
      },
      "source": [
        "## ¿Cómo obtener la matriz de transición de los caracteres? \n"
      ]
    },
    {
      "cell_type": "code",
      "source": [
        "# ¿Cuántas probabilidades de transición debe tener nuestra matriz de trancisión?\n",
        "len(alphabet)**2"
      ],
      "metadata": {
        "colab": {
          "base_uri": "https://localhost:8080/"
        },
        "id": "bTh_Lo8BJ-Ia",
        "outputId": "ffa07753-02a2-45b0-e6ed-84a1be7a5330"
      },
      "execution_count": 5,
      "outputs": [
        {
          "output_type": "execute_result",
          "data": {
            "text/plain": [
              "1444"
            ]
          },
          "metadata": {},
          "execution_count": 5
        }
      ]
    },
    {
      "cell_type": "markdown",
      "source": [
        "Para aprender estas probabilidades usaremos un texto, lo más largo posible en español"
      ],
      "metadata": {
        "id": "ibTGyugELB3B"
      }
    },
    {
      "cell_type": "code",
      "execution_count": 50,
      "metadata": {
        "id": "TpK8vMmPYr7e"
      },
      "outputs": [],
      "source": [
        "import re\n",
        "\n",
        "def limpiar_texto(texto):\n",
        "\n",
        "    #cambiar texto a minusculas\n",
        "    texto = texto.lower()\n",
        "    \n",
        "    # quitar tildes\n",
        "    a,b = 'áéíóúü','aeiouu'\n",
        "    trans = str.maketrans( a,b)\n",
        "    texto = texto.translate(trans)\n",
        "\n",
        "    # solo letras y numeros\n",
        "    texto = re.sub('[^ña-z0-9 ]+' ,' ', texto).strip()  \n",
        "\n",
        "    # remplazar multiples espacios contiguos por un solo espacio\n",
        "    texto = re.sub('\\s+',' ', texto)                    \n",
        "    return texto\n",
        "\n",
        "def find_between( s, first, last ):\n",
        "    '''fuente: https://stackoverflow.com/questions/3368969/find-string-between-two-substrings'''\n",
        "    try:\n",
        "        start = s.index( first ) + len( first )\n",
        "        end = s.index( last, start )\n",
        "        return s[start:end]\n",
        "    except ValueError:\n",
        "        return \"\"\n",
        "def leer_texto(file, inicio=None, fin=None):\n",
        "    with open(file, 'r') as f:\n",
        "        if inicio is not None and fin is not None:\n",
        "            libro = find_between(f.read(), inicio, fin)\n",
        "        else:\n",
        "            libro = f.read()\n",
        "    return limpiar_texto(libro)"
      ]
    },
    {
      "cell_type": "markdown",
      "metadata": {
        "id": "b7335StTYr7f"
      },
      "source": [
        "Se puede calcular las probabilidades de transisión utilizando cualquier texto. Si este es suficientemente grande, podremos obtener buenas estimaciones. Usaremos Don Quijote de la Mancha, que tiene más de 2 millones de caracteres."
      ]
    },
    {
      "cell_type": "code",
      "execution_count": 51,
      "metadata": {
        "id": "Me7N9lYrYr7f"
      },
      "outputs": [],
      "source": [
        "from collections import Counter\n",
        "import math\n",
        "\n",
        "def bigram_log_probabilities(book):\n",
        "    \n",
        "    character_counts = Counter(book)\n",
        "    bigram_counts = Counter(zip(book, book[1:]))\n",
        "    bigrams = bigram_counts.keys()\n",
        "    \n",
        "    return dict(map(lambda k: [k, math.log(bigram_counts[k]) - math.log(character_counts[k[0]])], bigrams))"
      ]
    },
    {
      "cell_type": "code",
      "source": [
        "from google.colab import drive\n",
        "drive.mount('/content/drive')"
      ],
      "metadata": {
        "colab": {
          "base_uri": "https://localhost:8080/",
          "height": 329
        },
        "id": "rMFPQN0y5Kaa",
        "outputId": "944d2cf4-c80f-4137-9ee4-5fbd347ee229"
      },
      "execution_count": 8,
      "outputs": [
        {
          "output_type": "error",
          "ename": "MessageError",
          "evalue": "ignored",
          "traceback": [
            "\u001b[0;31m---------------------------------------------------------------------------\u001b[0m",
            "\u001b[0;31mMessageError\u001b[0m                              Traceback (most recent call last)",
            "\u001b[0;32m<ipython-input-8-d5df0069828e>\u001b[0m in \u001b[0;36m<module>\u001b[0;34m\u001b[0m\n\u001b[1;32m      1\u001b[0m \u001b[0;32mfrom\u001b[0m \u001b[0mgoogle\u001b[0m\u001b[0;34m.\u001b[0m\u001b[0mcolab\u001b[0m \u001b[0;32mimport\u001b[0m \u001b[0mdrive\u001b[0m\u001b[0;34m\u001b[0m\u001b[0;34m\u001b[0m\u001b[0m\n\u001b[0;32m----> 2\u001b[0;31m \u001b[0mdrive\u001b[0m\u001b[0;34m.\u001b[0m\u001b[0mmount\u001b[0m\u001b[0;34m(\u001b[0m\u001b[0;34m'/content/drive'\u001b[0m\u001b[0;34m)\u001b[0m\u001b[0;34m\u001b[0m\u001b[0;34m\u001b[0m\u001b[0m\n\u001b[0m",
            "\u001b[0;32m/usr/local/lib/python3.7/dist-packages/google/colab/drive.py\u001b[0m in \u001b[0;36mmount\u001b[0;34m(mountpoint, force_remount, timeout_ms)\u001b[0m\n\u001b[1;32m    103\u001b[0m       \u001b[0mforce_remount\u001b[0m\u001b[0;34m=\u001b[0m\u001b[0mforce_remount\u001b[0m\u001b[0;34m,\u001b[0m\u001b[0;34m\u001b[0m\u001b[0;34m\u001b[0m\u001b[0m\n\u001b[1;32m    104\u001b[0m       \u001b[0mtimeout_ms\u001b[0m\u001b[0;34m=\u001b[0m\u001b[0mtimeout_ms\u001b[0m\u001b[0;34m,\u001b[0m\u001b[0;34m\u001b[0m\u001b[0;34m\u001b[0m\u001b[0m\n\u001b[0;32m--> 105\u001b[0;31m       ephemeral=True)\n\u001b[0m\u001b[1;32m    106\u001b[0m \u001b[0;34m\u001b[0m\u001b[0m\n\u001b[1;32m    107\u001b[0m \u001b[0;34m\u001b[0m\u001b[0m\n",
            "\u001b[0;32m/usr/local/lib/python3.7/dist-packages/google/colab/drive.py\u001b[0m in \u001b[0;36m_mount\u001b[0;34m(mountpoint, force_remount, timeout_ms, ephemeral)\u001b[0m\n\u001b[1;32m    118\u001b[0m   \u001b[0;32mif\u001b[0m \u001b[0mephemeral\u001b[0m\u001b[0;34m:\u001b[0m\u001b[0;34m\u001b[0m\u001b[0;34m\u001b[0m\u001b[0m\n\u001b[1;32m    119\u001b[0m     _message.blocking_request(\n\u001b[0;32m--> 120\u001b[0;31m         'request_auth', request={'authType': 'dfs_ephemeral'}, timeout_sec=None)\n\u001b[0m\u001b[1;32m    121\u001b[0m \u001b[0;34m\u001b[0m\u001b[0m\n\u001b[1;32m    122\u001b[0m   \u001b[0mmountpoint\u001b[0m \u001b[0;34m=\u001b[0m \u001b[0m_os\u001b[0m\u001b[0;34m.\u001b[0m\u001b[0mpath\u001b[0m\u001b[0;34m.\u001b[0m\u001b[0mexpanduser\u001b[0m\u001b[0;34m(\u001b[0m\u001b[0mmountpoint\u001b[0m\u001b[0;34m)\u001b[0m\u001b[0;34m\u001b[0m\u001b[0;34m\u001b[0m\u001b[0m\n",
            "\u001b[0;32m/usr/local/lib/python3.7/dist-packages/google/colab/_message.py\u001b[0m in \u001b[0;36mblocking_request\u001b[0;34m(request_type, request, timeout_sec, parent)\u001b[0m\n\u001b[1;32m    169\u001b[0m   request_id = send_request(\n\u001b[1;32m    170\u001b[0m       request_type, request, parent=parent, expect_reply=True)\n\u001b[0;32m--> 171\u001b[0;31m   \u001b[0;32mreturn\u001b[0m \u001b[0mread_reply_from_input\u001b[0m\u001b[0;34m(\u001b[0m\u001b[0mrequest_id\u001b[0m\u001b[0;34m,\u001b[0m \u001b[0mtimeout_sec\u001b[0m\u001b[0;34m)\u001b[0m\u001b[0;34m\u001b[0m\u001b[0;34m\u001b[0m\u001b[0m\n\u001b[0m",
            "\u001b[0;32m/usr/local/lib/python3.7/dist-packages/google/colab/_message.py\u001b[0m in \u001b[0;36mread_reply_from_input\u001b[0;34m(message_id, timeout_sec)\u001b[0m\n\u001b[1;32m    100\u001b[0m         reply.get('colab_msg_id') == message_id):\n\u001b[1;32m    101\u001b[0m       \u001b[0;32mif\u001b[0m \u001b[0;34m'error'\u001b[0m \u001b[0;32min\u001b[0m \u001b[0mreply\u001b[0m\u001b[0;34m:\u001b[0m\u001b[0;34m\u001b[0m\u001b[0;34m\u001b[0m\u001b[0m\n\u001b[0;32m--> 102\u001b[0;31m         \u001b[0;32mraise\u001b[0m \u001b[0mMessageError\u001b[0m\u001b[0;34m(\u001b[0m\u001b[0mreply\u001b[0m\u001b[0;34m[\u001b[0m\u001b[0;34m'error'\u001b[0m\u001b[0;34m]\u001b[0m\u001b[0;34m)\u001b[0m\u001b[0;34m\u001b[0m\u001b[0;34m\u001b[0m\u001b[0m\n\u001b[0m\u001b[1;32m    103\u001b[0m       \u001b[0;32mreturn\u001b[0m \u001b[0mreply\u001b[0m\u001b[0;34m.\u001b[0m\u001b[0mget\u001b[0m\u001b[0;34m(\u001b[0m\u001b[0;34m'data'\u001b[0m\u001b[0;34m,\u001b[0m \u001b[0;32mNone\u001b[0m\u001b[0;34m)\u001b[0m\u001b[0;34m\u001b[0m\u001b[0;34m\u001b[0m\u001b[0m\n\u001b[1;32m    104\u001b[0m \u001b[0;34m\u001b[0m\u001b[0m\n",
            "\u001b[0;31mMessageError\u001b[0m: Error: credential propagation was unsuccessful"
          ]
        }
      ]
    },
    {
      "cell_type": "code",
      "source": [
        "inicio = \"*** START OF THE PROJECT GUTENBERG EBOOK DON QUIJOTE ***\"\n",
        "fin = \"*** END OF THE PROJECT GUTENBERG EBOOK DON QUIJOTE ***\"\n",
        "\n",
        "file = '/content/DonQuijote.txt'\n",
        "DonQ = leer_texto(file, inicio, fin )"
      ],
      "metadata": {
        "id": "eLULH2Hx3zGa"
      },
      "execution_count": 52,
      "outputs": []
    },
    {
      "cell_type": "code",
      "source": [
        "bigram_table = bigram_log_probabilities(DonQ)\n",
        "bigram_table"
      ],
      "metadata": {
        "colab": {
          "base_uri": "https://localhost:8080/"
        },
        "id": "-sS8EHANxBMZ",
        "outputId": "99833a89-73eb-4869-d7bb-7d9e20a1bacb"
      },
      "execution_count": 53,
      "outputs": [
        {
          "output_type": "execute_result",
          "data": {
            "text/plain": [
              "{('e', 'l'): -2.495635370118805,\n",
              " ('l', ' '): -1.633573260510028,\n",
              " (' ', 'i'): -4.937384512589171,\n",
              " ('i', 'n'): -2.3504318062150116,\n",
              " ('n', 'g'): -4.031173508631302,\n",
              " ('g', 'e'): -2.980174879019078,\n",
              " ('e', 'n'): -1.8827851415801167,\n",
              " ('n', 'i'): -3.196628842521836,\n",
              " ('i', 'o'): -2.349621480303913,\n",
              " ('o', 's'): -1.8348327937786753,\n",
              " ('s', 'o'): -2.8913442783423715,\n",
              " ('o', ' '): -0.8242763995237041,\n",
              " (' ', 'h'): -3.420071451532097,\n",
              " ('h', 'i'): -2.3957986266629003,\n",
              " ('i', 'd'): -2.801143855311272,\n",
              " ('d', 'a'): -2.023135023232147,\n",
              " ('a', 'l'): -2.6003410610565005,\n",
              " ('l', 'g'): -4.105093437001927,\n",
              " ('g', 'o'): -1.4025662217672572,\n",
              " (' ', 'd'): -2.166409555430894,\n",
              " ('d', 'o'): -1.3743360383401892,\n",
              " ('o', 'n'): -2.0723476075124374,\n",
              " ('n', ' '): -1.137340896369082,\n",
              " (' ', 'q'): -2.633056752874694,\n",
              " ('q', 'u'): 0.0,\n",
              " ('u', 'i'): -2.480561604574996,\n",
              " ('i', 'j'): -2.933481589751146,\n",
              " ('j', 'o'): -0.5809899206883387,\n",
              " ('o', 't'): -3.485054422488467,\n",
              " ('t', 'e'): -1.3776567950215597,\n",
              " ('e', ' '): -1.0492270041581264,\n",
              " ('d', 'e'): -0.9273355144673836,\n",
              " (' ', 'l'): -2.453993060521281,\n",
              " ('l', 'a'): -1.3300988889736907,\n",
              " ('a', ' '): -1.0572346397157286,\n",
              " (' ', 'm'): -2.888473356904157,\n",
              " ('m', 'a'): -1.4288016144918032,\n",
              " ('a', 'n'): -2.1768630093201207,\n",
              " ('n', 'c'): -2.76997352886187,\n",
              " ('c', 'h'): -2.233525463604604,\n",
              " ('h', 'a'): -0.7720910967933925,\n",
              " (' ', 'p'): -2.707588941072377,\n",
              " ('p', 'o'): -1.2015693953799218,\n",
              " ('o', 'r'): -2.351057542749402,\n",
              " ('r', ' '): -1.665587610818232,\n",
              " ('m', 'i'): -1.7351810888678383,\n",
              " ('i', 'g'): -3.336874158257338,\n",
              " ('g', 'u'): -1.358552700327781,\n",
              " ('u', 'e'): -0.7285656314391495,\n",
              " (' ', 'c'): -2.6562858765277717,\n",
              " ('c', 'e'): -2.131160083094869,\n",
              " ('e', 'r'): -2.117486450267057,\n",
              " ('r', 'v'): -5.42335576432673,\n",
              " ('v', 'a'): -1.9512592452219444,\n",
              " ('n', 't'): -1.9603429424340302,\n",
              " ('e', 's'): -1.923913520658136,\n",
              " ('s', ' '): -0.8934149130536806,\n",
              " (' ', 's'): -2.5381357692532447,\n",
              " ('s', 'a'): -2.447743394639062,\n",
              " ('a', 'a'): -9.817117292301274,\n",
              " ('a', 'v'): -5.1149853984703855,\n",
              " ('v', 'e'): -1.0720171639855653,\n",
              " ('e', 'd'): -3.91187992127057,\n",
              " ('d', 'r'): -4.042346538160135,\n",
              " ('r', 'a'): -1.5006754644245959,\n",
              " (' ', 'e'): -2.3636134919407716,\n",
              " (' ', 't'): -3.2231022060371473,\n",
              " ('t', 'a'): -1.4098309784623986,\n",
              " ('a', 's'): -2.1514916695781032,\n",
              " ('s', 't'): -2.1974142631696267,\n",
              " ('t', 'i'): -2.4216621798134046,\n",
              " ('i', 'm'): -3.3813259208281714,\n",
              " ('m', 'o'): -1.6435332840240005,\n",
              " ('r', 'r'): -3.7545545293815206,\n",
              " ('a', 't'): -4.334586220807245,\n",
              " (' ', 'r'): -4.012122515220673,\n",
              " ('r', 'e'): -1.8214065216652653,\n",
              " ('e', 'y'): -6.204327970702745,\n",
              " ('y', ' '): -0.22425470663310776,\n",
              " (' ', 'a'): -2.523789918611312,\n",
              " ('d', 'u'): -3.865328311075034,\n",
              " ('u', 'q'): -5.2071183144429245,\n",
              " (' ', 'b'): -4.230165297546138,\n",
              " ('b', 'e'): -2.0616819861365254,\n",
              " ('e', 'j'): -4.69359655698007,\n",
              " ('j', 'a'): -1.61614839553327,\n",
              " ('a', 'r'): -2.414610340646842,\n",
              " ('p', 'r'): -2.260802912427158,\n",
              " ('r', 'o'): -1.9961600027504787,\n",
              " ('o', 'l'): -3.7148990040284833,\n",
              " ('l', 'o'): -1.872588447870985,\n",
              " ('o', 'g'): -5.825425851148651,\n",
              " ('l', 'i'): -3.019182611898829,\n",
              " ('i', 'b'): -4.077725136774494,\n",
              " ('b', 'r'): -1.7295200011307994,\n",
              " ('t', 'r'): -1.9680332921391823,\n",
              " ('c', 'o'): -1.3007360721975392,\n",
              " ('n', 'd'): -2.2326465488040803,\n",
              " ('d', 'i'): -1.979970117691039,\n",
              " ('i', 'c'): -3.0342422812912258,\n",
              " ('c', 'i'): -1.772322125826328,\n",
              " (' ', 'y'): -2.8890823275284347,\n",
              " ('j', 'e'): -1.9568971889217428,\n",
              " ('r', 'c'): -4.022106818223593,\n",
              " (' ', 'f'): -4.328939010562422,\n",
              " ('f', 'a'): -1.7311965739015633,\n",
              " ('a', 'm'): -3.556493437592973,\n",
              " ('r', 'i'): -2.5329840064305653,\n",
              " ('m', 'e'): -1.4801781979144,\n",
              " ('s', 'u'): -2.9004989696565424,\n",
              " ('u', ' '): -2.9893519326447286,\n",
              " ('i', 'e'): -1.8776815182132403,\n",
              " ('i', 'z'): -4.961961842358566,\n",
              " ('z', 'o'): -1.1605559827372858,\n",
              " ('s', 'e'): -1.9923748464323996,\n",
              " ('c', 'u'): -2.2375835306688234,\n",
              " (' ', 'g'): -4.601379577827496,\n",
              " ('g', 'r'): -2.0179628041262534,\n",
              " ('a', 'c'): -3.659560661566317,\n",
              " ('n', 'e'): -3.0883176809464175,\n",
              " ('t', 'u'): -2.9524714099729845,\n",
              " ('u', 'v'): -4.865129270060406,\n",
              " ('v', 'o'): -1.9993261668879247,\n",
              " ('r', 'm'): -3.8228865218753896,\n",
              " ('r', 's'): -4.18731344261844,\n",
              " ('c', 'a'): -1.6893373742536983,\n",
              " ('a', 'b'): -2.9712374170372247,\n",
              " ('b', 'a'): -1.1951012327200914,\n",
              " ('l', 'l'): -2.267951731132859,\n",
              " ('l', 'e'): -1.9296658114704055,\n",
              " ('u', 'c'): -3.6802700101144747,\n",
              " (' ', 'n'): -3.5002602638566707,\n",
              " ('n', 'u'): -4.475818072363243,\n",
              " ('u', 'a'): -3.0913294672305422,\n",
              " (' ', 'v'): -3.532727799357726,\n",
              " ('s', 'i'): -2.580231054781816,\n",
              " ('n', 'a'): -2.64230381773368,\n",
              " ('s', 'g'): -6.630296222084637,\n",
              " ('i', 'a'): -2.1308847550939607,\n",
              " ('n', 'o'): -2.069619765702326,\n",
              " ('s', 'c'): -3.825666460284107,\n",
              " ('c', 'r'): -3.571178017502148,\n",
              " ('r', 'u'): -4.720214053041789,\n",
              " ('u', 't'): -5.158219684521447,\n",
              " ('u', 'r'): -3.2147916962192884,\n",
              " ('r', 'b'): -5.074523997849023,\n",
              " ('e', 'g'): -4.250174758639334,\n",
              " ('u', 'n'): -2.2261875273377214,\n",
              " ('b', 'u'): -2.6056392054499744,\n",
              " ('s', 'p'): -3.5076411711264797,\n",
              " ('p', 'a'): -1.460949139818224,\n",
              " ('b', 'l'): -2.683917343359867,\n",
              " (' ', 'j'): -5.697398504046278,\n",
              " ('a', 'g'): -4.688833651753499,\n",
              " ('g', 'i'): -3.045849118620577,\n",
              " ('a', 'd'): -2.7780945450749712,\n",
              " ('v', 'i'): -1.2435529411453903,\n",
              " ('t', 'o'): -1.5046478589062318,\n",
              " (' ', 'o'): -4.139131209191625,\n",
              " ('g', 'n'): -4.2160550604756954,\n",
              " ('f', 'e'): -1.8448215994092836,\n",
              " ('e', 'c'): -3.661577638825058,\n",
              " ('r', 'd'): -3.721452624220536,\n",
              " ('c', 'l'): -4.818613953571978,\n",
              " ('l', 'u'): -4.022090533975215,\n",
              " ('u', 'y'): -4.332219215384121,\n",
              " ('y', 'e'): -3.6263458765269663,\n",
              " ('f', 'i'): -1.5827765687832906,\n",
              " ('u', 'p'): -5.427986551919999,\n",
              " ('p', 'e'): -1.8263092173851856,\n",
              " ('g', 'a'): -1.4308509356058394,\n",
              " ('z', 'c'): -3.3223192498441287,\n",
              " ('a', 'i'): -5.379827978952344,\n",
              " ('h', 'e'): -2.2005783534743886,\n",
              " (' ', 'u'): -4.507510439602081,\n",
              " ('y', 'a'): -2.868287665978057,\n",
              " ('i', 'f'): -5.41755870817677,\n",
              " ('f', 'u'): -1.2542725018112542,\n",
              " ('o', 'p'): -5.767117879761716,\n",
              " ('l', 'm'): -4.798916978764526,\n",
              " ('i', 'l'): -3.541936816928918,\n",
              " ('n', 'n'): -9.116194514085954,\n",
              " ('u', 'm'): -4.553465232922139,\n",
              " ('a', 'j'): -5.237731223468898,\n",
              " ('u', 'd'): -3.6438316820771632,\n",
              " ('h', 'o'): -1.2512649156835032,\n",
              " ('n', 'z'): -4.455905028876783,\n",
              " ('z', 'a'): -0.738321697411898,\n",
              " ('n', 's'): -3.82163419641563,\n",
              " ('a', 'z'): -4.8022485476730825,\n",
              " ('e', 'ñ'): -4.507807153078991,\n",
              " ('ñ', 'o'): -0.5123088981704171,\n",
              " ('i', 's'): -2.8051504168537296,\n",
              " ('e', 't'): -4.685105939934911,\n",
              " ('r', 'p'): -5.963628589419021,\n",
              " ('m', 'u'): -2.6268655708627247,\n",
              " ('r', 't'): -3.3188405850947778,\n",
              " ('i', ' '): -2.335603096080435,\n",
              " ('o', 'i'): -5.835831772309767,\n",
              " ('o', 'c'): -3.97959916065032,\n",
              " ('o', 'm'): -3.285308469388296,\n",
              " ('b', 'o'): -2.811092964352725,\n",
              " ('l', 't'): -4.364554549850651,\n",
              " ('m', 'b'): -3.2671475900427547,\n",
              " ('n', 'v'): -5.454771906205057,\n",
              " ('d', ' '): -3.2885747357837563,\n",
              " ('s', 'd'): -5.973738488956984,\n",
              " ('e', 'v'): -4.944843314816017,\n",
              " ('i', 'r'): -3.0178559337566107,\n",
              " ('a', 'ñ'): -4.967219983331799,\n",
              " ('ñ', 'a'): -1.097442834669784,\n",
              " ('i', 't'): -3.7214411487278856,\n",
              " ('e', 'b'): -5.213622753262507,\n",
              " ('e', 'z'): -5.031301196468552,\n",
              " ('s', 'm'): -4.892881235891465,\n",
              " ('e', 'a'): -4.813216902384302,\n",
              " ('u', 's'): -3.1600870169138435,\n",
              " ('e', 'm'): -4.271066455497191,\n",
              " ('m', 'p'): -2.9546159292102274,\n",
              " ('b', 'i'): -1.6671755945459825,\n",
              " ('p', 'u'): -2.197140313590646,\n",
              " ('o', 'd'): -3.6891422557643754,\n",
              " ('o', 'v'): -5.808998377006703,\n",
              " ('n', 'f'): -5.250215447159214,\n",
              " ('a', 'u'): -4.837878852265691,\n",
              " ('i', 'v'): -4.803314752078032,\n",
              " ('o', 'z'): -5.747774916918584,\n",
              " ('u', 'l'): -3.969107293520702,\n",
              " ('a', 'e'): -6.135079370004055,\n",
              " ('l', 'b'): -6.211258048822517,\n",
              " ('o', 'q'): -7.056682614423055,\n",
              " ('e', 'p'): -5.649013264666713,\n",
              " ('p', 'l'): -3.4880325789173607,\n",
              " ('e', 'e'): -6.592771391241478,\n",
              " ('a', 'p'): -4.988076546606356,\n",
              " ('o', 'b'): -4.368690392365444,\n",
              " ('c', 't'): -5.753674788128124,\n",
              " ('u', 'j'): -5.2071183144429245,\n",
              " ('s', 'f'): -6.415571241236024,\n",
              " ('p', 'i'): -2.838564565072277,\n",
              " ('l', 'c'): -4.952165945275501,\n",
              " ('s', 'q'): -6.785445404241486,\n",
              " ('e', 'o'): -5.661404996961876,\n",
              " ('e', 'x'): -7.20685004832573,\n",
              " ('x', 't'): -2.762117422372486,\n",
              " ('d', 'm'): -5.6740512513699874,\n",
              " ('o', 'f'): -5.831656400899287,\n",
              " (' ', 'z'): -7.406429258076705,\n",
              " ('u', 'z'): -5.746440283038534,\n",
              " ('z', 'n'): -4.797167008305465,\n",
              " ('e', 'h'): -8.519872208339295,\n",
              " ('l', 'd'): -4.930324203360453,\n",
              " ('ñ', 'e'): -3.32963351425159,\n",
              " ('r', 'n'): -4.379803252841647,\n",
              " ('o', 'ñ'): -7.370713516571588,\n",
              " ('z', ' '): -2.001693992232096,\n",
              " ('u', 'g'): -5.103353604435506,\n",
              " ('a', 'y'): -4.961542182415117,\n",
              " ('y', 'o'): -2.1952434371367655,\n",
              " ('e', 'f'): -6.456869393002619,\n",
              " ('v', 'u'): -2.403356113294093,\n",
              " ('a', 'o'): -7.924553123951254,\n",
              " ('i', 'ñ'): -6.643326172330126,\n",
              " ('j', 'u'): -2.393852964121278,\n",
              " ('o', 'y'): -5.162759222562801,\n",
              " ('i', 'p'): -5.605868306815347,\n",
              " ('e', 'i'): -5.393874739947403,\n",
              " (' ', '1'): -11.06570824241435,\n",
              " ('1', '6'): -0.6931471805599452,\n",
              " ('6', '0'): -1.3862943611198906,\n",
              " ('0', '4'): -0.6931471805599453,\n",
              " ('4', ' '): 0.0,\n",
              " ('f', 'r'): -2.462084082444356,\n",
              " ('s', 'l'): -6.7178521131089575,\n",
              " ('h', 'u'): -3.232004455880496,\n",
              " ('u', 'b'): -4.440432800024353,\n",
              " ('f', 'o'): -2.7344986827653486,\n",
              " ('z', 'q'): -5.418855224883265,\n",
              " ('r', 'q'): -4.256445289854347,\n",
              " ('r', 'g'): -5.341940372841221,\n",
              " ('n', 'r'): -6.010114183363098,\n",
              " ('x', 'c'): -1.81303686767534,\n",
              " ('n', 'j'): -6.617494542165618,\n",
              " ('c', 'c'): -7.030406946736488,\n",
              " ('n', 'q'): -5.210860496808604,\n",
              " ('s', 'n'): -6.6066264779987325,\n",
              " ('a', 'q'): -4.653370819510865,\n",
              " ('o', 'j'): -5.5330962103003225,\n",
              " ('z', 'g'): -4.2752915483528895,\n",
              " ('n', 'm'): -6.263563084172636,\n",
              " ('r', 'l'): -4.291089970616977,\n",
              " ('u', 'f'): -6.814280913039889,\n",
              " ('j', 'i'): -4.685150097341472,\n",
              " ('s', 'h'): -7.047809668708976,\n",
              " ('u', 'o'): -6.791808057187831,\n",
              " ('l', 'v'): -4.619757837075084,\n",
              " ('a', 'h'): -5.843400717867788,\n",
              " ('g', 'l'): -4.4679276802307655,\n",
              " ('b', ' '): -8.017843137375271,\n",
              " ('c', ' '): -8.2926486591864,\n",
              " (' ', 'x'): -8.450748464378151,\n",
              " ('x', 'e'): -4.148411783492376,\n",
              " ('z', 'e'): -8.093003874309794,\n",
              " ('e', 'u'): -9.303991167104968,\n",
              " ('u', 'x'): -10.193005438849987,\n",
              " ('x', 'i'): -2.048350954609805,\n",
              " ('o', 'e'): -7.137908054345641,\n",
              " ('r', 'z'): -5.753597451197306,\n",
              " ('b', 's'): -7.206912921158943,\n",
              " ('i', 'q'): -6.254955497581262,\n",
              " ('e', 'q'): -7.218614889905317,\n",
              " ('l', 's'): -6.694684698400393,\n",
              " ('t', ' '): -7.301212067013399,\n",
              " ('m', ' '): -7.619768819800029,\n",
              " ('m', 'q'): -10.710811273158345,\n",
              " ('i', 'x'): -7.700438730091483,\n",
              " ('x', ' '): -2.178971137026869,\n",
              " ('a', 'f'): -6.58380078327828,\n",
              " ('i', 'u'): -6.314144368971593,\n",
              " ('s', 'b'): -8.803851055334952,\n",
              " ('o', 'a'): -8.869948288872074,\n",
              " ('t', 'c'): -8.736296592302722,\n",
              " ('f', 'l'): -3.740559414068213,\n",
              " ('p', 's'): -9.093834645213358,\n",
              " ('r', 'f'): -7.050812182263508,\n",
              " ('p', 't'): -6.454777315598099,\n",
              " ('x', 'p'): -1.951187206156157,\n",
              " ('d', 'v'): -6.5804572240116,\n",
              " ('l', 'z'): -6.427481157292153,\n",
              " ('l', 'q'): -7.009765745040288,\n",
              " ('o', 'h'): -6.512381061460675,\n",
              " ('h', ' '): -4.566499321640245,\n",
              " ('l', 'f'): -6.92687808523452,\n",
              " ('r', 'j'): -7.237689555593324,\n",
              " ('u', 'ñ'): -6.65688873928846,\n",
              " ('l', 'p'): -6.200208212635932,\n",
              " ('s', 'v'): -6.896259770581776,\n",
              " ('s', 's'): -10.361995673381502,\n",
              " ('i', 'i'): -7.04456294432877,\n",
              " ('d', 'h'): -9.775040356310758,\n",
              " ('n', 'l'): -6.780819598268917,\n",
              " ('y', 'u'): -5.117835176683724,\n",
              " (' ', 'ñ'): -12.16432053108246,\n",
              " ('ñ', 'u'): -5.364339162090035,\n",
              " ('ñ', 'i'): -3.6238729872495297,\n",
              " ('v', ' '): -6.57897339564493,\n",
              " ('d', 'l'): -8.339955831021435,\n",
              " ('d', 's'): -11.384478268744857,\n",
              " ('d', 'n'): -9.998183907624966,\n",
              " ('z', 'u'): -5.072578988165431,\n",
              " ('g', 'm'): -8.151794592521158,\n",
              " ('o', 'o'): -8.9609200670778,\n",
              " ('l', 'j'): -9.10162980671868,\n",
              " ('z', 'p'): -7.687538766201629,\n",
              " ('b', 'j'): -7.900060101718887,\n",
              " ('x', 'm'): -3.994261103665118,\n",
              " ('o', 'x'): -11.312295324241278,\n",
              " ('z', 'm'): -5.741628617146317,\n",
              " ('l', 'r'): -8.919308249924727,\n",
              " ('u', 'h'): -9.499858258290041,\n",
              " ('g', ' '): -9.068085324395312,\n",
              " ('x', 'v'): -2.6079667425452278,\n",
              " ('l', 'h'): -8.036919069726252,\n",
              " ('x', 'x'): -1.7657839828247948,\n",
              " ('x', 'a'): -2.9957322735539913,\n",
              " ('d', 'j'): -11.384478268744857,\n",
              " ('z', 'b'): -7.3998566937498484,\n",
              " ('s', 'r'): -11.748290034501393,\n",
              " ('n', 'h'): -8.893050962771744,\n",
              " ('b', 'c'): -8.998672390386998,\n",
              " (' ', 'w'): -12.16432053108246,\n",
              " ('w', 'a'): 0.0,\n",
              " ('d', 'q'): -9.592718799516803,\n",
              " ('j', ' '): -8.576970395452099,\n",
              " ('b', 'd'): -10.097284679055107,\n",
              " ('m', 'm'): -10.710811273158345,\n",
              " ('x', 'l'): -2.9444389791664407,\n",
              " ('a', 'x'): -12.215012565099645,\n",
              " ('i', 'y'): -10.720863616235846,\n",
              " ('l', 'n'): -11.404214899712727,\n",
              " ('m', 'n'): -9.324516912038455,\n",
              " ('c', 'm'): -11.00069886028861,\n",
              " ('x', 'o'): -5.247024072160486,\n",
              " ('f', ' '): -8.245909264774093,\n",
              " ('p', ' '): -10.480129006333248,\n",
              " ('1', '0'): -2.0794415416798357,\n",
              " ('0', ' '): -0.6931471805599453,\n",
              " ('1', '7'): -2.0794415416798357,\n",
              " ('7', ' '): 0.0,\n",
              " ('6', '1'): -0.6931471805599453,\n",
              " ('1', '5'): -2.0794415416798357,\n",
              " ('5', ' '): 0.0,\n",
              " ('p', 'c'): -9.38151671766514,\n",
              " ('s', 'j'): -11.748290034501393,\n",
              " ('y', 'm'): -9.441967832938703,\n",
              " (' ', '2'): -12.857467711642405,\n",
              " ('2', '3'): 0.0,\n",
              " ('3', ' '): 0.0,\n",
              " ('x', 'h'): -5.940171252720432,\n",
              " ('z', 'l'): -8.78615105486974,\n",
              " ('1', '4'): -2.0794415416798357,\n",
              " ('h', 'r'): -9.210890220781618,\n",
              " ('r', 'y'): -11.528148996741715,\n",
              " ('y', 't'): -10.135115013498648,\n",
              " ('i', 'h'): -10.720863616235846,\n",
              " ('b', 't'): -10.097284679055107,\n",
              " ('6', ' '): -1.3862943611198906,\n",
              " ('l', 'x'): -8.696164698610517,\n",
              " ('y', 'l'): -10.135115013498648}"
            ]
          },
          "metadata": {},
          "execution_count": 53
        }
      ]
    },
    {
      "cell_type": "markdown",
      "metadata": {
        "id": "rsB4wtvdYr7f"
      },
      "source": [
        "Y mediante la siguiente función calcularemos que tan \"buena\" es la secuencia utilizando para ello las probabilidades de transición estimadas."
      ]
    },
    {
      "cell_type": "code",
      "execution_count": 54,
      "metadata": {
        "id": "ShKV2OfdYr7d"
      },
      "outputs": [],
      "source": [
        "LOG_EPSILON = -30  # probabilidad muy pequeña vista como logaritmo, que se ustilizara cuando no exista probabilidad de trancisión de una letra a otra\n",
        "\n",
        "def goodness(text, bigram_table):\n",
        "    bigrams = zip(text, text[1:])\n",
        "    sum = 0\n",
        "    for b in bigrams:\n",
        "        sum += bigram_table.get(b) or LOG_EPSILON\n",
        "    return sum"
      ]
    },
    {
      "cell_type": "code",
      "execution_count": 12,
      "metadata": {
        "id": "fOAJWcz2Yr7g",
        "outputId": "8100b5a5-5e95-465e-b17d-7b7524fef8f0",
        "colab": {
          "base_uri": "https://localhost:8080/"
        }
      },
      "outputs": [
        {
          "output_type": "stream",
          "name": "stdout",
          "text": [
            "Log probability of 'opamc' = -40.784560457172915\n"
          ]
        }
      ],
      "source": [
        "print(\"Log probability of 'opamc' = \" +str(goodness(\"opamc\", bigram_table)))"
      ]
    },
    {
      "cell_type": "code",
      "execution_count": 13,
      "metadata": {
        "id": "AnrdclCUYr7g",
        "outputId": "df90a11e-b426-4add-ec67-6400217af96d",
        "colab": {
          "base_uri": "https://localhost:8080/"
        }
      },
      "outputs": [
        {
          "output_type": "stream",
          "name": "stdout",
          "text": [
            "Log probabilidad de 'campo' = -9.40201613643682\n"
          ]
        }
      ],
      "source": [
        "print(\"Log probabilidad de 'campo' = \" +str(goodness(\"campo\", bigram_table)))"
      ]
    },
    {
      "cell_type": "markdown",
      "source": [
        "# Implementación"
      ],
      "metadata": {
        "id": "SUGNKvpc2r9P"
      }
    },
    {
      "cell_type": "markdown",
      "source": [
        "## Creación del mensaje encriptado"
      ],
      "metadata": {
        "id": "FosFljuA8fr1"
      }
    },
    {
      "cell_type": "code",
      "execution_count": 55,
      "metadata": {
        "id": "e_BXIRxZHTji"
      },
      "outputs": [],
      "source": [
        "plain_text = limpiar_texto(\n",
        "    \"\"\"Muchos años después, frente al pelotón de fusilamiento, el coronel Aureliano Buendía había de \n",
        "recordar aquella tarde remota en que su padre lo llevó a conocer el hielo. Macondo era entonces \n",
        "una aldea de veinte casas de barro y cañabrava construidas a la orilla de un río de aguas diáfanas \n",
        "que se precipitaban por un lecho de piedras pulidas, blancas y enormes como huevos \n",
        "prehistóricos. El mundo era tan reciente, que muchas cosas carecían de nombre, y para \n",
        "mencionarlas había que señalarías con el dedo. Todos los años, por el mes de marzo, una familia \n",
        "de gitanos desarrapados plantaba su carpa cerca de la aldea, y con un grande alboroto de pitos y \n",
        "timbales daban a conocer los nuevos inventos. Primero llevaron el imán. Un gitano corpulento, de \n",
        "barba montaraz y manos de gorrión, que se presentó con el nombre de Melquíades, hizo una \n",
        "truculenta demostración pública de lo que él mismo llamaba la octava maravilla de los sabios \n",
        "alquimistas de Macedonia. Fue de casa en casa arrastrando dos lingotes metálicos, y todo el \n",
        "mundo se espantó al ver que los calderos, las pailas, las tenazas y los anafes se caían de su sitio, \n",
        "y las maderas crujían por la desesperación de los clavos y los tornillos tratando de desenclavarse, \n",
        "y aun los objetos perdidos desde hacía mucho tiempo aparecían por donde más se les había \n",
        "buscado, y se arrastraban en desbandada turbulenta detrás de los fierros mágicos de Melquíades. \n",
        "\"\"\"\n",
        ")"
      ]
    },
    {
      "cell_type": "code",
      "execution_count": 56,
      "metadata": {
        "id": "PFVObQT4Yr7g"
      },
      "outputs": [],
      "source": [
        "import random\n",
        "\n",
        "def make_random_key():\n",
        "    l = list(alphabet)\n",
        "    random.shuffle(l)\n",
        "    return dict(zip(alphabet, l))"
      ]
    },
    {
      "cell_type": "code",
      "execution_count": 37,
      "metadata": {
        "id": "vziRlSM4Yr7h",
        "outputId": "bff964bc-384e-4e16-ff0a-80d9bc90a8d5",
        "colab": {
          "base_uri": "https://localhost:8080/",
          "height": 174
        }
      },
      "outputs": [
        {
          "output_type": "execute_result",
          "data": {
            "text/plain": [
              "'xmtprn1a3rn1h4ngm4n1vj45k41a91g49rkr51h41vmn09ax045kr1491trjr5491amj490a5r12m45h0a1pa20a1h41j4trjhaj1a m499a1kajh41j4xrka1451 m41nm1gahj419r1994fr1a1tr5rt4j1491p049r1xatr5hr14ja145kr5t4n1m5a1a9h4a1h41f405k41tanan1h412ajjr1ñ1ta3a2jafa1tr5nkjm0han1a19a1rj099a1h41m51j0r1h41asman1h0ava5an1 m41n41gj4t0g0ka2a51grj1m5194tpr1h41g04hjan1gm90han129a5tan1ñ145rjx4n1trxr1pm4frn1gj4p0nkrj0trn1491xm5hr14ja1ka51j4t045k41 m41xmtpan1trnan1taj4t0a51h415rx2j41ñ1gaja1x45t0r5aj9an1pa20a1 m41n43a9aj0an1tr51491h4hr1krhrn19rn1a3rn1grj1491x4n1h41xajyr1m5a1vax090a1h41s0ka5rn1h4najjagahrn1g9a5ka2a1nm1tajga1t4jta1h419a1a9h4a1ñ1tr51m51sja5h41a92rjrkr1h41g0krn1ñ1k0x2a94n1ha2a51a1tr5rt4j19rn15m4frn105f45krn1gj0x4jr1994fajr514910xa51m51s0ka5r1trjgm945kr1h412aj2a1xr5kajay1ñ1xa5rn1h41srjj0r51 m41n41gj4n45kr1tr514915rx2j41h41x49 m0ah4n1p0yr1m5a1kjmtm945ka1h4xrnkjat0r51gm290ta1h419r1 m41491x0nxr199axa2a19a1rtkafa1xajaf099a1h419rn1na20rn1a9 m0x0nkan1h41xat4hr50a1vm41h41tana1451tana1ajjankja5hr1hrn1905srk4n1x4ka90trn1ñ1krhr1491xm5hr1n414nga5kr1a91f4j1 m419rn1ta9h4jrn19an1ga09an19an1k45ayan1ñ19rn1a5av4n1n41ta0a51h41nm1n0k0r1ñ19an1xah4jan1tjmu0a51grj19a1h4n4ng4jat0r51h419rn1t9afrn1ñ19rn1krj5099rn1kjaka5hr1h41h4n45t9afajn41ñ1am519rn1r2u4krn1g4jh0hrn1h4nh41pat0a1xmtpr1k04xgr1agaj4t0a51grj1hr5h41xan1n4194n1pa20a12mntahr1ñ1n41ajjankja2a51451h4n2a5haha1kmj2m945ka1h4kjan1h419rn1v04jjrn1xas0trn1h41x49 m0ah4n'"
            ],
            "application/vnd.google.colaboratory.intrinsic+json": {
              "type": "string"
            }
          },
          "metadata": {},
          "execution_count": 37
        }
      ],
      "source": [
        "key = make_random_key()\n",
        "cipher_text = code(plain_text, key)\n",
        "cipher_text"
      ]
    },
    {
      "cell_type": "markdown",
      "source": [
        "## Busqueda de la clave"
      ],
      "metadata": {
        "id": "1x0YrP828tVQ"
      }
    },
    {
      "cell_type": "markdown",
      "source": [
        "Empezaremos la busqueda de la clave adecuado, utilizando en el inicio una **clave** aleatoria que iremos cambiando por una  clave cercana, simplemente transponiendo dos caracteres seleccionados aleatoriamente."
      ],
      "metadata": {
        "id": "NES6nS081pfn"
      }
    },
    {
      "cell_type": "code",
      "source": [
        "clave0 = make_random_key()  # creamos una clave inicial\n",
        "clave0"
      ],
      "metadata": {
        "colab": {
          "base_uri": "https://localhost:8080/"
        },
        "id": "zCPiZDtH2ZeG",
        "outputId": "eedbdd4a-097a-4f7d-9a22-ad7ca1a0dd5b"
      },
      "execution_count": 18,
      "outputs": [
        {
          "output_type": "execute_result",
          "data": {
            "text/plain": [
              "{'a': 'm',\n",
              " 'b': '6',\n",
              " 'c': 'c',\n",
              " 'd': 'l',\n",
              " 'e': '0',\n",
              " 'f': 'p',\n",
              " 'g': 't',\n",
              " 'h': 'n',\n",
              " 'i': 'b',\n",
              " 'j': 'ñ',\n",
              " 'k': 'q',\n",
              " 'l': 'a',\n",
              " 'm': '1',\n",
              " 'n': '4',\n",
              " 'ñ': '3',\n",
              " 'o': 'i',\n",
              " 'p': 'v',\n",
              " 'q': 'u',\n",
              " 'r': 'h',\n",
              " 's': 'w',\n",
              " 't': 'j',\n",
              " 'u': 'o',\n",
              " 'v': '9',\n",
              " 'w': 'k',\n",
              " 'x': '8',\n",
              " 'y': ' ',\n",
              " 'z': '2',\n",
              " '0': 's',\n",
              " '1': 'd',\n",
              " '2': 'g',\n",
              " '3': 'x',\n",
              " '4': 'z',\n",
              " '5': 'r',\n",
              " '6': '7',\n",
              " '7': '5',\n",
              " '8': 'e',\n",
              " '9': 'y',\n",
              " ' ': 'f'}"
            ]
          },
          "metadata": {},
          "execution_count": 18
        }
      ]
    },
    {
      "cell_type": "code",
      "source": [
        "decoded0 =code(cipher_text, clave0) # decodificamos\n",
        "decoded0"
      ],
      "metadata": {
        "colab": {
          "base_uri": "https://localhost:8080/",
          "height": 174
        },
        "id": "X0KGp6CC-Pue",
        "outputId": "8b17233e-6f04-44c1-bd60-e6cb3010142d"
      },
      "execution_count": 19,
      "outputs": [
        {
          "output_type": "execute_result",
          "data": {
            "text/plain": [
              "'k4m 5rdgs5rdq7rl47rdhp7fv7dgbdl7b5v5fdq7dh4r3bgk37fv5d7bdm5p5f7bdg4p7b3gf5du47fq3gd gu3gdq7dp7m5pqgpdgj47bbgdvgpq7dp7k5vgd7fdj47dr4dlgqp7db5dbb7i5dgdm5f5m7pd7bd 37b5dkgm5fq5d7pgd7fv5fm7rd4fgdgbq7gdq7di73fv7dmgrgrdq7dugpp5dedmgsgupgigdm5frvp43qgrdgdbgd5p3bbgdq7d4fdp35dq7dgy4grdq3ghgfgrdj47dr7dlp7m3l3vgugfdl5pd4fdb7m 5dq7dl37qpgrdl4b3qgrdubgfmgrded7f5pk7rdm5k5d 47i5rdlp7 3rv5p3m5rd7bdk4fq5d7pgdvgfdp7m37fv7dj47dk4m grdm5rgrdmgp7m3gfdq7df5kup7dedlgpgdk7fm35fgpbgrd gu3gdj47dr7sgbgp3grdm5fd7bdq7q5dv5q5rdb5rdgs5rdl5pd7bdk7rdq7dkgp95d4fgdhgk3b3gdq7dy3vgf5rdq7rgppglgq5rdlbgfvgugdr4dmgplgdm7pmgdq7dbgdgbq7gdedm5fd4fdypgfq7dgbu5p5v5dq7dl3v5rdedv3kugb7rdqgugfdgdm5f5m7pdb5rdf47i5rd3fi7fv5rdlp3k7p5dbb7igp5fd7bd3kgfd4fdy3vgf5dm5pl4b7fv5dq7dugpugdk5fvgpg9dedkgf5rdq7dy5pp35fdj47dr7dlp7r7fv5dm5fd7bdf5kup7dq7dk7bj43gq7rd 395d4fgdvp4m4b7fvgdq7k5rvpgm35fdl4ub3mgdq7db5dj47d7bdk3rk5dbbgkgugdbgd5mvgigdkgpgi3bbgdq7db5rdrgu35rdgbj43k3rvgrdq7dkgm7q5f3gdh47dq7dmgrgd7fdmgrgdgppgrvpgfq5dq5rdb3fy5v7rdk7vgb3m5rdedv5q5d7bdk4fq5dr7d7rlgfv5dgbdi7pdj47db5rdmgbq7p5rdbgrdlg3bgrdbgrdv7fg9grdedb5rdgfgh7rdr7dmg3gfdq7dr4dr3v35dedbgrdkgq7pgrdmp4c3gfdl5pdbgdq7r7rl7pgm35fdq7db5rdmbgi5rdedb5rdv5pf3bb5rdvpgvgfq5dq7dq7r7fmbgigpr7dedg4fdb5rd5uc7v5rdl7pq3q5rdq7rq7d gm3gdk4m 5dv37kl5dglgp7m3gfdl5pdq5fq7dkgrdr7db7rd gu3gdu4rmgq5dedr7dgppgrvpgugfd7fdq7rugfqgqgdv4pu4b7fvgdq7vpgrdq7db5rdh37pp5rdkgy3m5rdq7dk7bj43gq7r'"
            ],
            "application/vnd.google.colaboratory.intrinsic+json": {
              "type": "string"
            }
          },
          "metadata": {},
          "execution_count": 19
        }
      ]
    },
    {
      "cell_type": "code",
      "source": [
        "log_p0 = goodness(decoded0, bigram_table)  # evaluamos\n",
        "log_p0"
      ],
      "metadata": {
        "colab": {
          "base_uri": "https://localhost:8080/"
        },
        "id": "GQljSD2J-5GH",
        "outputId": "ea52580c-979b-4dec-8976-b41e5a9cd509"
      },
      "execution_count": 20,
      "outputs": [
        {
          "output_type": "execute_result",
          "data": {
            "text/plain": [
              "-32984.91082028115"
            ]
          },
          "metadata": {},
          "execution_count": 20
        }
      ]
    },
    {
      "cell_type": "code",
      "source": [
        "pair = random.sample(alphabet, 2)\n",
        "pair[0], pair[1]"
      ],
      "metadata": {
        "colab": {
          "base_uri": "https://localhost:8080/"
        },
        "id": "tXV_1TFWo-XD",
        "outputId": "09317df7-15b5-4407-c2f9-b6e5afb12926"
      },
      "execution_count": 21,
      "outputs": [
        {
          "output_type": "execute_result",
          "data": {
            "text/plain": [
              "('m', '9')"
            ]
          },
          "metadata": {},
          "execution_count": 21
        }
      ]
    },
    {
      "cell_type": "code",
      "source": [
        "clave0[pair[0]] ,clave0[pair[1]]"
      ],
      "metadata": {
        "colab": {
          "base_uri": "https://localhost:8080/"
        },
        "id": "SHRffzOMqZZ7",
        "outputId": "e6388a65-0db1-483a-83df-ee7693042f37"
      },
      "execution_count": 22,
      "outputs": [
        {
          "output_type": "execute_result",
          "data": {
            "text/plain": [
              "('1', 'y')"
            ]
          },
          "metadata": {},
          "execution_count": 22
        }
      ]
    },
    {
      "cell_type": "code",
      "source": [
        "clave1 = clave0.copy()\n",
        "clave1[pair[0]] = clave0[pair[1]]\n",
        "clave1[pair[1]] = clave0[pair[0]]\n",
        "clave1"
      ],
      "metadata": {
        "colab": {
          "base_uri": "https://localhost:8080/"
        },
        "id": "fc8a-VnPrCkL",
        "outputId": "7ad52544-b0fd-44f5-f641-af58d8a6bb18"
      },
      "execution_count": 23,
      "outputs": [
        {
          "output_type": "execute_result",
          "data": {
            "text/plain": [
              "{'a': 'm',\n",
              " 'b': '6',\n",
              " 'c': 'c',\n",
              " 'd': 'l',\n",
              " 'e': '0',\n",
              " 'f': 'p',\n",
              " 'g': 't',\n",
              " 'h': 'n',\n",
              " 'i': 'b',\n",
              " 'j': 'ñ',\n",
              " 'k': 'q',\n",
              " 'l': 'a',\n",
              " 'm': 'y',\n",
              " 'n': '4',\n",
              " 'ñ': '3',\n",
              " 'o': 'i',\n",
              " 'p': 'v',\n",
              " 'q': 'u',\n",
              " 'r': 'h',\n",
              " 's': 'w',\n",
              " 't': 'j',\n",
              " 'u': 'o',\n",
              " 'v': '9',\n",
              " 'w': 'k',\n",
              " 'x': '8',\n",
              " 'y': ' ',\n",
              " 'z': '2',\n",
              " '0': 's',\n",
              " '1': 'd',\n",
              " '2': 'g',\n",
              " '3': 'x',\n",
              " '4': 'z',\n",
              " '5': 'r',\n",
              " '6': '7',\n",
              " '7': '5',\n",
              " '8': 'e',\n",
              " '9': '1',\n",
              " ' ': 'f'}"
            ]
          },
          "metadata": {},
          "execution_count": 23
        }
      ]
    },
    {
      "cell_type": "code",
      "source": [
        "decoded1 =code(cipher_text, clave1) # decodificamos\n",
        "decoded1"
      ],
      "metadata": {
        "colab": {
          "base_uri": "https://localhost:8080/",
          "height": 174
        },
        "outputId": "fd5bc442-b5fb-46d5-bb91-9c85527b15e3",
        "id": "IQ9-ca5l_0sg"
      },
      "execution_count": 24,
      "outputs": [
        {
          "output_type": "execute_result",
          "data": {
            "text/plain": [
              "'k4m 5rdgs5rdq7rl47rdhp7fv7dgbdl7b5v5fdq7dh4r3bgk37fv5d7bdm5p5f7bdg4p7b3gf5du47fq3gd gu3gdq7dp7m5pqgpdgj47bbgdvgpq7dp7k5vgd7fdj47dr4dlgqp7db5dbb7i5dgdm5f5m7pd7bd 37b5dkgm5fq5d7pgd7fv5fm7rd4fgdgbq7gdq7di73fv7dmgrgrdq7dugpp5dedmgsgupgigdm5frvp43qgrdgdbgd5p3bbgdq7d4fdp35dq7dg14grdq3ghgfgrdj47dr7dlp7m3l3vgugfdl5pd4fdb7m 5dq7dl37qpgrdl4b3qgrdubgfmgrded7f5pk7rdm5k5d 47i5rdlp7 3rv5p3m5rd7bdk4fq5d7pgdvgfdp7m37fv7dj47dk4m grdm5rgrdmgp7m3gfdq7df5kup7dedlgpgdk7fm35fgpbgrd gu3gdj47dr7sgbgp3grdm5fd7bdq7q5dv5q5rdb5rdgs5rdl5pd7bdk7rdq7dkgp95d4fgdhgk3b3gdq7d13vgf5rdq7rgppglgq5rdlbgfvgugdr4dmgplgdm7pmgdq7dbgdgbq7gdedm5fd4fd1pgfq7dgbu5p5v5dq7dl3v5rdedv3kugb7rdqgugfdgdm5f5m7pdb5rdf47i5rd3fi7fv5rdlp3k7p5dbb7igp5fd7bd3kgfd4fd13vgf5dm5pl4b7fv5dq7dugpugdk5fvgpg9dedkgf5rdq7d15pp35fdj47dr7dlp7r7fv5dm5fd7bdf5kup7dq7dk7bj43gq7rd 395d4fgdvp4m4b7fvgdq7k5rvpgm35fdl4ub3mgdq7db5dj47d7bdk3rk5dbbgkgugdbgd5mvgigdkgpgi3bbgdq7db5rdrgu35rdgbj43k3rvgrdq7dkgm7q5f3gdh47dq7dmgrgd7fdmgrgdgppgrvpgfq5dq5rdb3f15v7rdk7vgb3m5rdedv5q5d7bdk4fq5dr7d7rlgfv5dgbdi7pdj47db5rdmgbq7p5rdbgrdlg3bgrdbgrdv7fg9grdedb5rdgfgh7rdr7dmg3gfdq7dr4dr3v35dedbgrdkgq7pgrdmp4c3gfdl5pdbgdq7r7rl7pgm35fdq7db5rdmbgi5rdedb5rdv5pf3bb5rdvpgvgfq5dq7dq7r7fmbgigpr7dedg4fdb5rd5uc7v5rdl7pq3q5rdq7rq7d gm3gdk4m 5dv37kl5dglgp7m3gfdl5pdq5fq7dkgrdr7db7rd gu3gdu4rmgq5dedr7dgppgrvpgugfd7fdq7rugfqgqgdv4pu4b7fvgdq7vpgrdq7db5rdh37pp5rdkg13m5rdq7dk7bj43gq7r'"
            ],
            "application/vnd.google.colaboratory.intrinsic+json": {
              "type": "string"
            }
          },
          "metadata": {},
          "execution_count": 24
        }
      ]
    },
    {
      "cell_type": "code",
      "source": [
        "log_p1 = goodness(decoded1, bigram_table)  # evaluamos\n",
        "log_p1"
      ],
      "metadata": {
        "colab": {
          "base_uri": "https://localhost:8080/"
        },
        "outputId": "a228e30c-34ec-48ff-ace7-4fecb7a64c2e",
        "id": "18QLwwLJ_0sg"
      },
      "execution_count": 25,
      "outputs": [
        {
          "output_type": "execute_result",
          "data": {
            "text/plain": [
              "-32901.14914490618"
            ]
          },
          "metadata": {},
          "execution_count": 25
        }
      ]
    },
    {
      "cell_type": "markdown",
      "source": [
        "En base a lo anterior ¿Aceptamos la nueva clave propuesta?"
      ],
      "metadata": {
        "id": "ciroJbtIAJpe"
      }
    },
    {
      "cell_type": "markdown",
      "source": [
        "## Algoritmo completo"
      ],
      "metadata": {
        "id": "g3C0k_ZmBfZG"
      }
    },
    {
      "cell_type": "code",
      "execution_count": 57,
      "metadata": {
        "id": "SiCt0FxCYr7h"
      },
      "outputs": [],
      "source": [
        "def transpose_random(key):\n",
        "    pair = random.sample(alphabet, 2)\n",
        "    new_key = dict(key)\n",
        "    new_key[pair[0]] = key[pair[1]]\n",
        "    new_key[pair[1]] = key[pair[0]]\n",
        "    return new_key\n",
        "\n",
        "def decode(cipher_text, bigram_table, iters = 100000, print_every = 10000):\n",
        "    # 1. inicializamos con una clave aleatoria\n",
        "    current_key = make_random_key()  \n",
        "\n",
        "    for i in range(0, iters):  # en cada iteración utilizaremos una nueva clave\n",
        "\n",
        "        # 2. decodificamos la secuencia con la clave\n",
        "        decoded = code(cipher_text, current_key) \n",
        "\n",
        "        if i % print_every == 0:\n",
        "            print(str(i) + \"\\t\" + decoded + \"\\n\")\n",
        "\n",
        "        # 3. evaluamos la secuencia utilizando el modelo de bigramas \n",
        "        score = goodness(decoded, bigram_table)   \n",
        "               \n",
        "        # 4. proponemos una nueva clave \"cercana\"\n",
        "        changed_key = transpose_random(current_key) \n",
        "\n",
        "        # 5. evaluamos la nueva clave decodificando la secuencia  \n",
        "        changed_score = goodness(code(cipher_text, changed_key), bigram_table)  # evaluamos la secuencia con la nueva clave propuesta\n",
        "\n",
        "        # 6.1 si la clave propuesta da mejores resultados nos quedamos con ella para la prox iteración\n",
        "        if changed_score > score:   \n",
        "            current_key = changed_key\n",
        "\n",
        "        # damos oportunidad proporcional a la relación entre la probabilidad de las dos secuencias evaluadas \n",
        "        else:  \n",
        "            diff = changed_score - score\n",
        "            if math.log(random.random())  < diff:\n",
        "                current_key = changed_key\n",
        "\n",
        "    decoded = code(cipher_text, current_key)\n",
        "    print(\"Final decoded: \" + decoded)\n",
        "    return decoded"
      ]
    },
    {
      "cell_type": "code",
      "execution_count": 58,
      "metadata": {
        "id": "rT7ZraMAYr7h",
        "outputId": "1fd23d65-bbcf-4adb-9f37-7ec24e5314dd",
        "colab": {
          "base_uri": "https://localhost:8080/",
          "height": 507
        }
      },
      "outputs": [
        {
          "output_type": "stream",
          "name": "stdout",
          "text": [
            "0\twas53b 3uañ32j2bñj03sa2b jñjbqñaañb9iaba8b 8jsawjbua8bqij8b1asnjba8b ñnsqn nw3bañjba8bj2wañ3nuabdbp6lba2wabj2wañ3nuab7jb2nu3b1n2w3b2383bisjb1a0bq3sba8bwa8a2q3 n3basb6fofb 3ñbisbj2wñ3s3k3bwiñq3ba2wabj2wñ3s3k3b7n03bisjb5ñjsbuak32wñjqn3sbuab2ibua2qidñnknasw3basbisbq3s5ña23bnswañsjqn3sj8buabj2wñ3s3knjb añ3bsjunab8abqñay3bjbqji2jbuab2ibkjsañjbuab1a2wnñb8j2b añ23sj2bkjy3ña2b23sbj2nbta8n0kaswab jñjb8jbña iwjqn3sbua8bj2wañ3nuabdbp6lbisbunqwju3ñbwiñq3bnk i23bjb2ib iad83bdj43b asjbuabkiañwaba8b1a2wnu3bjb8jbaiñ3 ajbasw3sqa2ba8bj2wñ3s3k3b1381n3bjbujñbqiaswjbuab2ibua2qidñnknasw3basb6flobybq3k3b8iqnjbisbwñj4abkiyba8a5jswabw3u3ba8bkisu3bjqa w3b2ibuak32wñjqn3s\n",
            "\n",
            "10000\trengo potelobab lazoneb pala cleel fue es psanera tes cuas venia es plincipiro ela es abreloite d q10 ebre abreloite ha bito vibro boso una vez con es resebcopio en 1646 pol un abrlonomo rulco ebre abrlonomo hizo una glan temobrlacion te bu tebcudlimienro en un conglebo inrelnacionas te abrlonomia pelo natie se cleyo a cauba te bu manela te vebril sab pelbonab mayoleb bon abi jesizmenre pala sa lepuracion tes abreloite d q10 un ticratol rulco impubo a bu puedso daño pena te muelre es vebrito a sa eulopea enronceb es abrlonomo vosvio a tal cuenra te bu tebcudlimienro en 1604 y como sucia un rlañe muy eseganre roto es munto acepro bu temobrlacion\n",
            "\n",
            "20000\trengo potelobab lazoneb pala cleel jue es psanera tes cuas venia es plincipiro ela es abreloite d q10 ebre abreloite ha bito vibro boso una vez con es resebcopio en 1646 pol un abrlonomo rulco ebre abrlonomo hizo una glan temobrlacion te bu tebcudlimienro en un conglebo inrelnacionas te abrlonomia pelo natie se cleyo a cauba te bu manela te vebril sab pelbonab mayoleb bon abi fesizmenre pala sa lepuracion tes abreloite d q10 un ticratol rulco impubo a bu puedso daño pena te muelre es vebrito a sa eulopea enronceb es abrlonomo vosvio a tal cuenra te bu tebcudlimienro en 1604 y como sucia un rlañe muy eseganre roto es munto acepro bu temobrlacion\n",
            "\n",
            "30000\trengo potelobab lazoneb pala cleel fue es psanera tes cuas venia es plincipiro ela es abreloite d q10 ebre abreloite ha bito vibro boso una vez con es resebcopio en 1646 pol un abrlonomo rulco ebre abrlonomo hizo una glan temobrlacion te bu tebcudlimienro en un conglebo inrelnacionas te abrlonomia pelo natie se cleyo a cauba te bu manela te vebril sab pelbonab mayoleb bon abi jesizmenre pala sa lepuracion tes abreloite d q10 un ticratol rulco impubo a bu puedso daño pena te muelre es vebrito a sa eulopea enronceb es abrlonomo vosvio a tal cuenra te bu tebcudlimienro en 1604 y como sucia un rlañe muy eseganre roto es munto acepro bu temobrlacion\n",
            "\n",
            "40000\trengo potelobab lazoneb pala cleel jue es psanera tes cuas venia es plincipiro ela es abreloite d q10 ebre abreloite ha bito vibro boso una vez con es resebcopio en 16x6 pol un abrlonomo rulco ebre abrlonomo hizo una glan temobrlacion te bu tebcudlimienro en un conglebo inrelnacionas te abrlonomia pelo natie se cleyo a cauba te bu manela te vebril sab pelbonab mayoleb bon abi fesizmenre pala sa lepuracion tes abreloite d q10 un ticratol rulco impubo a bu puedso daño pena te muelre es vebrito a sa eulopea enronceb es abrlonomo vosvio a tal cuenra te bu tebcudlimienro en 160x y como sucia un rlañe muy eseganre roto es munto acepro bu temobrlacion\n",
            "\n",
            "50000\trengo potelobab lazoneb pala cleel fue es psanera tes cuas venia es plincipiro ela es abreloite d q10 ebre abreloite ha bito vibro boso una vez con es resebcopio en 1646 pol un abrlonomo rulco ebre abrlonomo hizo una glan temobrlacion te bu tebcudlimienro en un conglebo inrelnacionas te abrlonomia pelo natie se cleyo a cauba te bu manela te vebril sab pelbonab mayoleb bon abi jesizmenre pala sa lepuracion tes abreloite d q10 un ticratol rulco impubo a bu puedso daño pena te muelre es vebrito a sa eulopea enronceb es abrlonomo vosvio a tal cuenra te bu tebcudlimienro en 1604 y como sucia un rlañe muy eseganre roto es munto acepro bu temobrlacion\n",
            "\n",
            "60000\trengo potelobab lazoneb pala cleel jue es psanera tes cuas venia es plincipiro ela es abreloite d q10 ebre abreloite ha bito vibro boso una vez con es resebcopio en 1646 pol un abrlonomo rulco ebre abrlonomo hizo una glan temobrlacion te bu tebcudlimienro en un conglebo inrelnacionas te abrlonomia pelo natie se cleyo a cauba te bu manela te vebril sab pelbonab mayoleb bon abi fesizmenre pala sa lepuracion tes abreloite d q10 un ticratol rulco impubo a bu puedso daño pena te muelre es vebrito a sa eulopea enronceb es abrlonomo vosvio a tal cuenra te bu tebcudlimienro en 1604 y como sucia un rlañe muy eseganre roto es munto acepro bu temobrlacion\n",
            "\n",
            "70000\trengo potelobab lazoneb pala cleel fue es psanera tes cuas venia es plincipiro ela es abreloite d q10 ebre abreloite ha bito vibro boso una vez con es resebcopio en 1646 pol un abrlonomo rulco ebre abrlonomo hizo una glan temobrlacion te bu tebcudlimienro en un conglebo inrelnacionas te abrlonomia pelo natie se cleyo a cauba te bu manela te vebril sab pelbonab mayoleb bon abi jesizmenre pala sa lepuracion tes abreloite d q10 un ticratol rulco impubo a bu puedso daño pena te muelre es vebrito a sa eulopea enronceb es abrlonomo vosvio a tal cuenra te bu tebcudlimienro en 1604 y como sucia un rlañe muy eseganre roto es munto acepro bu temobrlacion\n",
            "\n",
            "80000\trengo potelobab lazoneb pala cleel fue es psanera tes cuas venia es plincipiro ela es abreloite d q10 ebre abreloite ha bito vibro boso una vez con es resebcopio en 1646 pol un abrlonomo rulco ebre abrlonomo hizo una glan temobrlacion te bu tebcudlimienro en un conglebo inrelnacionas te abrlonomia pelo natie se cleyo a cauba te bu manela te vebril sab pelbonab mayoleb bon abi jesizmenre pala sa lepuracion tes abreloite d q10 un ticratol rulco impubo a bu puedso daño pena te muelre es vebrito a sa eulopea enronceb es abrlonomo vosvio a tal cuenra te bu tebcudlimienro en 1604 y como sucia un rlañe muy eseganre roto es munto acepro bu temobrlacion\n",
            "\n",
            "90000\trengo potelobab lazoneb pala cleel fue es psanera tes cuas venia es plincipiro ela es abreloite d q10 ebre abreloite ha bito vibro boso una vez con es resebcopio en 1646 pol un abrlonomo rulco ebre abrlonomo hizo una glan temobrlacion te bu tebcudlimienro en un conglebo inrelnacionas te abrlonomia pelo natie se cleyo a cauba te bu manela te vebril sab pelbonab mayoleb bon abi jesizmenre pala sa lepuracion tes abreloite d q10 un ticratol rulco impubo a bu puedso daño pena te muelre es vebrito a sa eulopea enronceb es abrlonomo vosvio a tal cuenra te bu tebcudlimienro en 1604 y como sucia un rlañe muy eseganre roto es munto acepro bu temobrlacion\n",
            "\n",
            "Final decoded: rengo potelobab lazoneb pala cleel jue es psanera tes cuas venia es plincipiro ela es abreloite d q10 ebre abreloite ha bito vibro boso una vez con es resebcopio en 1646 pol un abrlonomo rulco ebre abrlonomo hizo una glan temobrlacion te bu tebcudlimienro en un conglebo inrelnacionas te abrlonomia pelo natie se cleyo a cauba te bu manela te vebril sab pelbonab mayoleb bon abi fesizmenre pala sa lepuracion tes abreloite d q10 un ticratol rulco impubo a bu puedso daño pena te muelre es vebrito a sa eulopea enronceb es abrlonomo vosvio a tal cuenra te bu tebcudlimienro en 1604 y como sucia un rlañe muy eseganre roto es munto acepro bu temobrlacion\n"
          ]
        },
        {
          "output_type": "execute_result",
          "data": {
            "text/plain": [
              "'rengo potelobab lazoneb pala cleel jue es psanera tes cuas venia es plincipiro ela es abreloite d q10 ebre abreloite ha bito vibro boso una vez con es resebcopio en 1646 pol un abrlonomo rulco ebre abrlonomo hizo una glan temobrlacion te bu tebcudlimienro en un conglebo inrelnacionas te abrlonomia pelo natie se cleyo a cauba te bu manela te vebril sab pelbonab mayoleb bon abi fesizmenre pala sa lepuracion tes abreloite d q10 un ticratol rulco impubo a bu puedso daño pena te muelre es vebrito a sa eulopea enronceb es abrlonomo vosvio a tal cuenra te bu tebcudlimienro en 1604 y como sucia un rlañe muy eseganre roto es munto acepro bu temobrlacion'"
            ],
            "application/vnd.google.colaboratory.intrinsic+json": {
              "type": "string"
            }
          },
          "metadata": {},
          "execution_count": 58
        }
      ],
      "source": [
        "decode(cipher_text, bigram_table)"
      ]
    },
    {
      "cell_type": "markdown",
      "metadata": {
        "id": "zi2Lqc5PYr7i"
      },
      "source": [
        "# Otros ejemplos"
      ]
    },
    {
      "cell_type": "code",
      "execution_count": 59,
      "metadata": {
        "colab": {
          "base_uri": "https://localhost:8080/",
          "height": 122
        },
        "outputId": "48bcf779-5cc6-45c5-c03c-79aaa9950eca",
        "id": "rrQsFuePH_po"
      },
      "outputs": [
        {
          "output_type": "execute_result",
          "data": {
            "text/plain": [
              "'k45sr1grh4jrnan1jayr54n1gaja1tj44j1 m41491g9a54ka1h491tma91f450a1491gj05t0g0kr14ja1491ank4jr0h4121cb814nk41ank4jr0h41pa1n0hr1f0nkr1nr9r1m5a1f4y1tr51491k494ntrg0r1451b6w61grj1m51ankjr5rxr1kmjtr14nk41ankjr5rxr1p0yr1m5a1sja51h4xrnkjat0r51h41nm1h4ntm2j0x045kr1451m51tr5sj4nr105k4j5at0r5a91h41ankjr5rx0a1g4jr15ah041941tj4ñr1a1tamna1h41nm1xa54ja1h41f4nk0j19an1g4jnr5an1xañrj4n1nr51an01v490yx45k41gaja19a1j4gmkat0r51h491ank4jr0h4121cb81m51h0tkahrj1kmjtr10xgmnr1a1nm1gm429r12aur1g45a1h41xm4jk41491f4nk0hr1a19a14mjrg4a145kr5t4n1491ankjr5rxr1fr9f0r1a1haj1tm45ka1h41nm1h4ntm2j0x045kr1451b68w1ñ1trxr19mt0a1m51kjau41xmñ1494sa5k41krhr1491xm5hr1at4gkr1nm1h4xrnkjat0r5'"
            ],
            "application/vnd.google.colaboratory.intrinsic+json": {
              "type": "string"
            }
          },
          "metadata": {},
          "execution_count": 59
        }
      ],
      "source": [
        "# El principito. Tomado de https://archive.org/stream/ElPrincipitoAntoineDeSaintExupery/El_principito-_Antoine_De_Saint_Exupery_djvu.txt\n",
        "\n",
        "plain_text = limpiar_texto(\n",
        "    \"\"\"Tengo poderosas razones para creer que el planeta del cual venía el principito era \n",
        "el asteroide B 612. Este asteroide ha sido visto sólo una vez con el telescopio en \n",
        "1909, por un astrónomo turco. \n",
        "Este astrónomo hizo una gran demostración de su descubrimiento en un congreso \n",
        "Internacional de Astronomía. Pero nadie le creyó a causa de su manera de vestir. \n",
        "Las personas mayores son así. Felizmente para la reputación del asteroide B 612, \n",
        "un dictador turco impuso a su pueblo, bajo pena de muerte, el vestido a la \n",
        "europea. Entonces el astrónomo volvió a dar cuenta de su descubrimiento en 1920 \n",
        "y como lucía un traje muy elegante, todo el mundo aceptó su demostración. \n",
        "\"\"\"\n",
        ")\n",
        "cipher_text = code(plain_text, key)\n",
        "cipher_text"
      ]
    },
    {
      "cell_type": "code",
      "execution_count": 60,
      "metadata": {
        "scrolled": false,
        "outputId": "6bd82f4a-9cc4-4b87-ca32-d8fe445759ef",
        "colab": {
          "base_uri": "https://localhost:8080/",
          "height": 507
        },
        "id": "5og76b75H_px"
      },
      "outputs": [
        {
          "output_type": "stream",
          "name": "stdout",
          "text": [
            "0\ts2y5d10dt2cdege1cgpdy2e10gcg14c22c1iv212o10ogy2sg1t2o14vgo1h2y8g12o10c8y4808sd12cg12o1ges2cd8t21917añ12es21ges2cd8t21xg1e8td1h8esd1edod1vyg1h2p14dy12o1s2o2e4d08d12y1arzr10dc1vy1gescdydld1svc4d12es21gescdydld1x8pd1vyg15cgy1t2ldescg48dy1t21ev1t2e4v9c8l82ysd12y1vy14dy5c2ed18ys2cyg48dygo1t21gescdydl8g102cd1ygt821o214c26d1g14gveg1t21ev1lgy2cg1t21h2es8c1oge102cedyge1lg6dc2e1edy1ge81m2o8pl2ys210gcg1og1c20vsg48dy1t2o1ges2cd8t21917añ1vy1t84sgtdc1svc4d18l0ved1g1ev10v29od19gkd102yg1t21lv2cs212o1h2es8td1g1og12vcd02g12ysdy42e12o1gescdydld1hdoh8d1g1tgc14v2ysg1t21ev1t2e4v9c8l82ysd12y1arñz1614dld1ov48g1vy1scgk21lv612o25gys21sdtd12o1lvytd1g420sd1ev1t2ldescg48dy\n",
            "\n",
            "10000\tienfo cotelosas lazones cala gleel mue ed cdaneia ted guad henra ed clrngrcrio ela ed asielorte x q10 esie asielorte ba srto hrsio sodo una hez gon ed iedesgocro en 1646 col un asilonopo iulgo esie asilonopo brzo una flan teposilagron te su tesguxlrprenio en un gonfleso rnielnagronad te asilonopra celo natre de gleyo a gausa te su panela te hesirl das celsonas payoles son asr vedrzpenie cala da lecuiagron ted asielorte x q10 un trgiatol iulgo rpcuso a su cuexdo xaño cena te puelie ed hesirto a da eulocea enionges ed asilonopo hodhro a tal guenia te su tesguxlrprenio en 1604 y gopo dugra un ilañe puy edefanie ioto ed punto agecio su teposilagron\n",
            "\n",
            "20000\tianfo cotaloses lemonas cele glaal vua ad cdenaie tad gued hanre ad clrngrcrio ale ad esialorta y q10 asia esialorta be srto hrsio sodo une ham gon ad iadasgocro an 1646 col un esilonopo iulgo asia esilonopo brmo une flen taposilegron ta su tasguylrpranio an un gonflaso rnialnegroned ta esilonopre calo netra da glazo e geuse ta su penale ta hasirl des calsones pezolas son esr jadrmpania cele de lacuiegron tad esialorta y q10 un trgietol iulgo rpcuso e su cuaydo yeño cane ta pualia ad hasirto e de aulocae aniongas ad esilonopo hodhro e tel guanie ta su tasguylrpranio an 1604 z gopo dugre un ileña puz adafenia ioto ad punto egacio su taposilegron\n",
            "\n",
            "30000\tianfo cotaloses lemonas cele glaal jua ad cdenaie tad gued hanre ad clrngrcrio ale ad esialorta y q10 asia esialorta pe srto hrsio sodo une ham gon ad iadasgocro an 1646 col un esilonobo iulgo asia esilonobo prmo une flen tabosilegron ta su tasguylrbranio an un gonflaso rnialnegroned ta esilonobre calo netra da glazo e geuse ta su benale ta hasirl des calsones bezolas son esr vadrmbania cele de lacuiegron tad esialorta y q10 un trgietol iulgo rbcuso e su cuaydo yeño cane ta bualia ad hasirto e de aulocae aniongas ad esilonobo hodhro e tel guanie ta su tasguylrbranio an 1604 z gobo dugre un ileña buz adafenia ioto ad bunto egacio su tabosilegron\n",
            "\n",
            "40000\tianfo cotaloses lemonas cele glaal vua ad cdenaie tad gued hanre ad clrngrcrio ale ad esialorta y q10 asia esialorta be srto hrsio sodo une ham gon ad iadasgocro an 1646 col un esilonopo iulgo asia esilonopo brmo une flen taposilegron ta su tasguylrpranio an un gonflaso rnialnegroned ta esilonopre calo netra da glazo e geuse ta su penale ta hasirl des calsones pezolas son esr jadrmpania cele de lacuiegron tad esialorta y q10 un trgietol iulgo rpcuso e su cuaydo yeño cane ta pualia ad hasirto e de aulocae aniongas ad esilonopo hodhro e tel guanie ta su tasguylrpranio an 1604 z gopo dugre un ileña puz adafenia ioto ad punto egacio su taposilegron\n",
            "\n",
            "50000\tianfo cotaloses lemonas cele glaal vua ad cdenaie tad gued hanre ad clrngrcrio ale ad esialorta y q10 asia esialorta be srto hrsio sodo une ham gon ad iadasgocro an 1646 col un esilonopo iulgo asia esilonopo brmo une flen taposilegron ta su tasguylrpranio an un gonflaso rnialnegroned ta esilonopre calo netra da glazo e geuse ta su penale ta hasirl des calsones pezolas son esr jadrmpania cele de lacuiegron tad esialorta y q10 un trgietol iulgo rpcuso e su cuaydo yeño cane ta pualia ad hasirto e de aulocae aniongas ad esilonopo hodhro e tel guanie ta su tasguylrpranio an 1604 z gopo dugre un ileña puz adafenia ioto ad punto egacio su taposilegron\n",
            "\n",
            "60000\tianfo cotaloses lemonas cele glaal jua ad cdenaie tad gued hanre ad clrngrcrio ale ad esialorta y q10 asia esialorta be srto hrsio sodo une ham gon ad iadasgocro an 1646 col un esilonopo iulgo asia esilonopo brmo une flen taposilegron ta su tasguylrpranio an un gonflaso rnialnegroned ta esilonopre calo netra da glazo e geuse ta su penale ta hasirl des calsones pezolas son esr vadrmpania cele de lacuiegron tad esialorta y q10 un trgietol iulgo rpcuso e su cuaydo yeño cane ta pualia ad hasirto e de aulocae aniongas ad esilonopo hodhro e tel guanie ta su tasguylrpranio an 1604 z gopo dugre un ileña puz adafenia ioto ad punto egacio su taposilegron\n",
            "\n",
            "70000\tianfo cotaloses lemonas cele glaal jua ad cdenaie tad gued hanre ad clrngrcrio ale ad esialorta y q10 asia esialorta be srto hrsio sodo une ham gon ad iadasgocro an 1646 col un esilonopo iulgo asia esilonopo brmo une flen taposilegron ta su tasguylrpranio an un gonflaso rnialnegroned ta esilonopre calo netra da glazo e geuse ta su penale ta hasirl des calsones pezolas son esr vadrmpania cele de lacuiegron tad esialorta y q10 un trgietol iulgo rpcuso e su cuaydo yeño cane ta pualia ad hasirto e de aulocae aniongas ad esilonopo hodhro e tel guanie ta su tasguylrpranio an 1604 z gopo dugre un ileña puz adafenia ioto ad punto egacio su taposilegron\n",
            "\n",
            "80000\tianfo cotaloses lemonas cele glaal vua ad cdenaie tad gued hanre ad clrngrcrio ale ad esialorta y q10 asia esialorta pe srto hrsio sodo une ham gon ad iadasgocro an 1646 col un esilonobo iulgo asia esilonobo prmo une flen tabosilegron ta su tasguylrbranio an un gonflaso rnialnegroned ta esilonobre calo netra da glazo e geuse ta su benale ta hasirl des calsones bezolas son esr jadrmbania cele de lacuiegron tad esialorta y q10 un trgietol iulgo rbcuso e su cuaydo yeño cane ta bualia ad hasirto e de aulocae aniongas ad esilonobo hodhro e tel guanie ta su tasguylrbranio an 1604 z gobo dugre un ileña buz adafenia ioto ad bunto egacio su tabosilegron\n",
            "\n",
            "90000\tianfo cotaloses lemonas cele glaal jua ad cdenaie tad gued hanre ad clrngrcrio ale ad esialorta y q10 asia esialorta be srto hrsio sodo une ham gon ad iadasgocro an 16x6 col un esilonopo iulgo asia esilonopo brmo une flen taposilegron ta su tasguylrpranio an un gonflaso rnialnegroned ta esilonopre calo netra da glazo e geuse ta su penale ta hasirl des calsones pezolas son esr vadrmpania cele de lacuiegron tad esialorta y q10 un trgietol iulgo rpcuso e su cuaydo yeño cane ta pualia ad hasirto e de aulocae aniongas ad esilonopo hodhro e tel guanie ta su tasguylrpranio an 160x z gopo dugre un ileña puz adafenia ioto ad punto egacio su taposilegron\n",
            "\n",
            "Final decoded: ianfo cotaloses lemonas cele glaal vua ad cdenaie tad gued hanre ad clrngrcrio ale ad esialorta y q10 asia esialorta be srto hrsio sodo une ham gon ad iadasgocro an 16x6 col un esilonopo iulgo asia esilonopo brmo une flen taposilegron ta su tasguylrpranio an un gonflaso rnialnegroned ta esilonopre calo netra da glazo e geuse ta su penale ta hasirl des calsones pezolas son esr jadrmpania cele de lacuiegron tad esialorta y q10 un trgietol iulgo rpcuso e su cuaydo yeño cane ta pualia ad hasirto e de aulocae aniongas ad esilonopo hodhro e tel guanie ta su tasguylrpranio an 160x z gopo dugre un ileña puz adafenia ioto ad punto egacio su taposilegron\n"
          ]
        },
        {
          "output_type": "execute_result",
          "data": {
            "text/plain": [
              "'ianfo cotaloses lemonas cele glaal vua ad cdenaie tad gued hanre ad clrngrcrio ale ad esialorta y q10 asia esialorta be srto hrsio sodo une ham gon ad iadasgocro an 16x6 col un esilonopo iulgo asia esilonopo brmo une flen taposilegron ta su tasguylrpranio an un gonflaso rnialnegroned ta esilonopre calo netra da glazo e geuse ta su penale ta hasirl des calsones pezolas son esr jadrmpania cele de lacuiegron tad esialorta y q10 un trgietol iulgo rpcuso e su cuaydo yeño cane ta pualia ad hasirto e de aulocae aniongas ad esilonopo hodhro e tel guanie ta su tasguylrpranio an 160x z gopo dugre un ileña puz adafenia ioto ad punto egacio su taposilegron'"
            ],
            "application/vnd.google.colaboratory.intrinsic+json": {
              "type": "string"
            }
          },
          "metadata": {},
          "execution_count": 60
        }
      ],
      "source": [
        "decode(cipher_text, bigram_table)"
      ]
    },
    {
      "cell_type": "code",
      "execution_count": 61,
      "metadata": {
        "id": "KhpXMQiRYr7i",
        "colab": {
          "base_uri": "https://localhost:8080/",
          "height": 174
        },
        "outputId": "d9b883bb-ba43-4f69-8f5b-37278ed21e35"
      },
      "outputs": [
        {
          "output_type": "execute_result",
          "data": {
            "text/plain": [
              "'m51h0a1m5a19042j41rjsm99rna1ñ1f49ry1f0r1trxr1m5a1krjkmsa1tax05a2a1grj1491tax05r1ñ1n41941at4jtr19a19042j414xg4yr1a12mj9ajn41h419a1945k0kmh1h491rkjr1a50xa91ñ1h419a19r5s0kmh1h41nmn1gakan1n0514x2ajsr19a1krjkmsa1941j4ngr5h0r1 m414nka2a1n4smja1h41 m41a1g4naj1h419a1sja51f49rt0hah1h419a19042j414ja1tagay1h41sa5aj9a1451m5a1tajj4ja19a19042j41n4smja1h41nm1f0tkrj0a1ñ1tr5n0h4ja5hr1491j4kr10xgrn02941h41g4jh4j1at4gkr1ax2rn1g0h04jr51a19a1yrjja1 m41n43a9aja19a1x4ka1a19r1 m414nka1at4gkr1a910sma91 m41a91tm4jfr1gaja1 m41p0t04ja1h41um4y1a91994saj1491h0a1h419a1trxg4k0t0r51a914xg4yaj19a1tajj4ja19a19042j41ñ19a1krjkmsa1na904jr51a91x0nxr1k04xgr19a1krjkmsa1afa5ya2a1n051h4k454jn41g4jr1945kax45k419a19042j414ja1xmñ1f49ry1ñ1f045hr1 m41nata2a1m5a1sja51f45kaua1a19a1krjkmsa1h4t0h0r10j1gaja5hrn41ñ1h4nta5na5hr1h41f4y1451tma5hr1g4jr1451m5a1h419an1rtan0r54n19a19042j41n41 m4hr1hrjx0ha19a1krjkmsa1grtr1a1grtr1n0sm0r1afa5ya5hr1tma5hr19a19042j41h4ng4jkr1n4145tr5kjr1tr51 m419a1krjkmsa14nka2a1a1gm5kr1h41tjmyaj19a1x4ka1am5 m414tpr1a1trjj4j1vm41h4xan0ahr1kajh41ñ1v05a9x45k419a1krjkmsa1sa5r19a1tajj4ja14nka1va2m9a15rn145n43a1 m41491kja2aur1hmjr19a1g4jn4f4ja5t0a19a1tr5nka5t0a1ñ14914nvm4jyr15rn1994faja51a15m4nkjan1x4kan1am5 m41n4a1grtr1a1grtr1n015r15rn1j45h0xrn1kax204515rn1g4jx0k41f4j1trxr19a1ajjrsa5t0a19a1va9ka1h41tr5nka5t0a1ñ14914zt4nr1h41n4smj0hah1451m5r1x0nxr15rn1gm4h41994faj1a1g4jh4j1rgrjkm50hah4n1ñ1a15r1a9ta5yaj15m4nkjan1x4kan'"
            ],
            "application/vnd.google.colaboratory.intrinsic+json": {
              "type": "string"
            }
          },
          "metadata": {},
          "execution_count": 61
        }
      ],
      "source": [
        "# La liebre y la tortuga. Tomado de https://psicologiaymente.com/cultura/fabulas-de-esopo\n",
        "\n",
        "plain_text = limpiar_texto(\n",
        "    \"\"\"Un día una liebre orgullosa y veloz, vió como una tortuga caminaba por el camino y se le acercó. La liebre empezó a burlarse de la lentitud del otro animal y de la longitud de sus patas. Sin embargo, la tortuga le respondió que estaba segura de que a pesar de la gran velocidad de la liebre era capaz de ganarla en una carrera.\n",
        "La liebre, segura de su victoria y considerando el reto imposible de perder, aceptó. Ambos pidieron a la zorra que señalara la meta, a lo que esta aceptó, al igual que al cuervo para que hiciera de juez.\n",
        "Al llegar el día de la competición, al empezar la carrera la liebre y la tortuga salieron al mismo tiempo. La tortuga avanzaba sin detenerse, pero lentamente.\n",
        "La liebre era muy veloz, y viendo que sacaba una gran ventaja a la tortuga decidió ir parándose y descansando de vez en cuando. Pero en una de las ocasiones la liebre se quedó dormida. La tortuga, poco a poco, siguió avanzando.\n",
        "Cuando la liebre despertó, se encontró con que la tortuga estaba a punto de cruzar la meta. Aunque echó a correr fue demasiado tarde y finalmente la tortuga ganó la carrera\".\n",
        "Esta fábula nos enseña que el trabajo duro, la perseverancia, la constancia y el esfuerzo nos llevarán a nuestras metas, aunque sea poco a poco, si no nos rendimos. También nos permite ver cómo la arrogancia, la falta de constancia y el exceso de seguridad en uno mismo nos puede llevar a perder oportunidades y a no alcanzar nuestras metas.\n",
        "\"\"\"\n",
        ")\n",
        "cipher_text = code(plain_text, key)\n",
        "cipher_text"
      ]
    },
    {
      "cell_type": "code",
      "execution_count": 62,
      "metadata": {
        "scrolled": false,
        "id": "DEgIqcccYr7i",
        "outputId": "091db0b4-2345-46a4-858b-60b4df37e4a0",
        "colab": {
          "base_uri": "https://localhost:8080/",
          "height": 559
        }
      },
      "outputs": [
        {
          "output_type": "stream",
          "name": "stdout",
          "text": [
            "0\t97ub2 u97 uo2l5yluayk9ooax utueloasue2aufarau97 uvayv9k uf r27 5 u3ayulouf r27autuxluolu flyfauo uo2l5ylulr3lsau u59yo yxlubluo uol7v2v9bublouavyau 72r outubluo uoa7k2v9bublux9xu3 v xux27ulr5 ykauo uvayv9k uoluylx3a7b2auw9lulxv 5 uxlk9y ubluw9lu u3lx yubluo uky 7ueloaf2b bubluo uo2l5yluly uf 3 subluk 7 yo ul7u97 uf yyly uo uo2l5yluxlk9y ublux9ue2fvay2 utufa7x2bly 7baulouylvau2r3ax25olublu3lyblyu fl3vau r5axu32b2lya7u uo usayy uw9luxlm o y uo urlv u uoauw9lulxv u fl3vau ou2k9 ouw9lu ouf9lyeau3 y uw9lu02f2ly ubluz9lsu ouoolk yuloub2 ubluo ufar3lv2f2a7u oulr3ls yuo uf yyly uo uo2l5ylutuo uvayv9k ux o2lya7u our2xrauv2lr3auo uvayv9k u e 7s 5 ux27ublvl7lyxlu3lyauol7v rl7vluo uo2l5yluly ur9tueloasutue2l7bauw9lux f 5 u97 uky 7uel7v z u uo uvayv9k ublf2b2au2yu3 y 7baxlutublxf 7x 7baubluelsul7uf9 7bau3lyaul7u97 ubluo xuaf x2a7lxuo uo2l5yluxluw9lbaubayr2b uo uvayv9k u3afau u3afaux2k92au e 7s 7bauf9 7bauo uo2l5ylublx3lyvauxlul7fa7vyaufa7uw9luo uvayv9k ulxv 5 u u397vaublufy9s yuo urlv u 97w9lulf0au ufayylyu89lublr x2 bauv yblutu827 orl7vluo uvayv9k uk 7auo uf yyly ulxv u8 59o u7axul7xlm uw9lulouvy 5 zaub9yauo u3lyxlely 7f2 uo ufa7xv 7f2 utuloulx89lysau7axuoole y 7u u79lxvy xurlv xu 97w9luxl u3afau u3afaux2u7au7axuyl7b2raxuv r52l7u7axu3lyr2vluelyufarauo u yyak 7f2 uo u8 ov ublufa7xv 7f2 utuloulñflxaubluxlk9y2b bul7u97aur2xrau7axu39lbluoole yu u3lyblyua3ayv972b blxutu u7au of 7s yu79lxvy xurlv x\n",
            "\n",
            "10000\tun dia una liebre orgullosa y veloz vio como una tortuga caminaba por el camino y se le acerco la liebre empezo a burlarse de la lentitud del otro animal y de la longitud de sus patas sin embargo la tortuga le respondio fue estaba segura de fue a pesar de la gran velocidad de la liebre era capaz de ganarla en una carrera la liebre segura de su victoria y considerando el reto imposible de perder acepto ambos pidieron a la zorra fue señalara la meta a lo fue esta acepto al igual fue al cuervo para fue xiciera de juez al llegar el dia de la competicion al empezar la carrera la liebre y la tortuga salieron al mismo tiempo la tortuga avanzaba sin detenerse pero lentamente la liebre era muy veloz y viendo fue sacaba una gran ventaja a la tortuga decidio ir parandose y descansando de vez en cuando pero en una de las ocasiones la liebre se fuedo dormida la tortuga poco a poco siguio avanzando cuando la liebre desperto se encontro con fue la tortuga estaba a punto de cruzar la meta aunfue ecxo a correr hue demasiado tarde y hinalmente la tortuga gano la carrera esta habula nos enseña fue el trabajo duro la perseverancia la constancia y el eshuerzo nos llevaran a nuestras metas aunfue sea poco a poco si no nos rendimos tambien nos permite ver como la arrogancia la halta de constancia y el eqceso de seguridad en uno mismo nos puede llevar a perder oportunidades y a no alcanzar nuestras metas\n",
            "\n",
            "20000\tun dia una liebre orgullosa y veloz vio como una tortuga caminaba por el camino y se le acerco la liebre empezo a burlarse de la lentitud del otro animal y de la longitud de sus patas sin embargo la tortuga le respondio fue estaba segura de fue a pesar de la gran velocidad de la liebre era capaz de ganarla en una carrera la liebre segura de su victoria y considerando el reto imposible de perder acepto ambos pidieron a la zorra fue señalara la meta a lo fue esta acepto al igual fue al cuervo para fue xiciera de juez al llegar el dia de la competicion al empezar la carrera la liebre y la tortuga salieron al mismo tiempo la tortuga avanzaba sin detenerse pero lentamente la liebre era muy veloz y viendo fue sacaba una gran ventaja a la tortuga decidio ir parandose y descansando de vez en cuando pero en una de las ocasiones la liebre se fuedo dormida la tortuga poco a poco siguio avanzando cuando la liebre desperto se encontro con fue la tortuga estaba a punto de cruzar la meta aunfue ecxo a correr hue demasiado tarde y hinalmente la tortuga gano la carrera esta habula nos enseña fue el trabajo duro la perseverancia la constancia y el eshuerzo nos llevaran a nuestras metas aunfue sea poco a poco si no nos rendimos tambien nos permite ver como la arrogancia la halta de constancia y el eqceso de seguridad en uno mismo nos puede llevar a perder oportunidades y a no alcanzar nuestras metas\n",
            "\n",
            "30000\tun dia una liebre orgullosa y veloz vio como una tortuga caminaba por el camino y se le acerco la liebre empezo a burlarse de la lentitud del otro animal y de la longitud de sus patas sin embargo la tortuga le respondio fue estaba segura de fue a pesar de la gran velocidad de la liebre era capaz de ganarla en una carrera la liebre segura de su victoria y considerando el reto imposible de perder acepto ambos pidieron a la zorra fue señalara la meta a lo fue esta acepto al igual fue al cuervo para fue xiciera de juez al llegar el dia de la competicion al empezar la carrera la liebre y la tortuga salieron al mismo tiempo la tortuga avanzaba sin detenerse pero lentamente la liebre era muy veloz y viendo fue sacaba una gran ventaja a la tortuga decidio ir parandose y descansando de vez en cuando pero en una de las ocasiones la liebre se fuedo dormida la tortuga poco a poco siguio avanzando cuando la liebre desperto se encontro con fue la tortuga estaba a punto de cruzar la meta aunfue ecxo a correr hue demasiado tarde y hinalmente la tortuga gano la carrera esta habula nos enseña fue el trabajo duro la perseverancia la constancia y el eshuerzo nos llevaran a nuestras metas aunfue sea poco a poco si no nos rendimos tambien nos permite ver como la arrogancia la halta de constancia y el eqceso de seguridad en uno mismo nos puede llevar a perder oportunidades y a no alcanzar nuestras metas\n",
            "\n",
            "40000\tun dia una liebre orgullosa y veloz vio como una tortuga caminaba por el camino y se le acerco la liebre empezo a burlarse de la lentitud del otro animal y de la longitud de sus patas sin embargo la tortuga le respondio fue estaba segura de fue a pesar de la gran velocidad de la liebre era capaz de ganarla en una carrera la liebre segura de su victoria y considerando el reto imposible de perder acepto ambos pidieron a la zorra fue señalara la meta a lo fue esta acepto al igual fue al cuervo para fue xiciera de juez al llegar el dia de la competicion al empezar la carrera la liebre y la tortuga salieron al mismo tiempo la tortuga avanzaba sin detenerse pero lentamente la liebre era muy veloz y viendo fue sacaba una gran ventaja a la tortuga decidio ir parandose y descansando de vez en cuando pero en una de las ocasiones la liebre se fuedo dormida la tortuga poco a poco siguio avanzando cuando la liebre desperto se encontro con fue la tortuga estaba a punto de cruzar la meta aunfue ecxo a correr hue demasiado tarde y hinalmente la tortuga gano la carrera esta habula nos enseña fue el trabajo duro la perseverancia la constancia y el eshuerzo nos llevaran a nuestras metas aunfue sea poco a poco si no nos rendimos tambien nos permite ver como la arrogancia la halta de constancia y el eqceso de seguridad en uno mismo nos puede llevar a perder oportunidades y a no alcanzar nuestras metas\n",
            "\n",
            "50000\tun dia una liebre orgullosa y veloz vio como una tortuga caminaba por el camino y se le acerco la liebre empezo a burlarse de la lentitud del otro animal y de la longitud de sus patas sin embargo la tortuga le respondio fue estaba segura de fue a pesar de la gran velocidad de la liebre era capaz de ganarla en una carrera la liebre segura de su victoria y considerando el reto imposible de perder acepto ambos pidieron a la zorra fue señalara la meta a lo fue esta acepto al igual fue al cuervo para fue xiciera de juez al llegar el dia de la competicion al empezar la carrera la liebre y la tortuga salieron al mismo tiempo la tortuga avanzaba sin detenerse pero lentamente la liebre era muy veloz y viendo fue sacaba una gran ventaja a la tortuga decidio ir parandose y descansando de vez en cuando pero en una de las ocasiones la liebre se fuedo dormida la tortuga poco a poco siguio avanzando cuando la liebre desperto se encontro con fue la tortuga estaba a punto de cruzar la meta aunfue ecxo a correr hue demasiado tarde y hinalmente la tortuga gano la carrera esta habula nos enseña fue el trabajo duro la perseverancia la constancia y el eshuerzo nos llevaran a nuestras metas aunfue sea poco a poco si no nos rendimos tambien nos permite ver como la arrogancia la halta de constancia y el eqceso de seguridad en uno mismo nos puede llevar a perder oportunidades y a no alcanzar nuestras metas\n",
            "\n",
            "60000\tun dia una liebre orgullosa y veloz vio como una tortuga caminaba por el camino y se le acerco la liebre empezo a burlarse de la lentitud del otro animal y de la longitud de sus patas sin embargo la tortuga le respondio fue estaba segura de fue a pesar de la gran velocidad de la liebre era capaz de ganarla en una carrera la liebre segura de su victoria y considerando el reto imposible de perder acepto ambos pidieron a la zorra fue señalara la meta a lo fue esta acepto al igual fue al cuervo para fue xiciera de juez al llegar el dia de la competicion al empezar la carrera la liebre y la tortuga salieron al mismo tiempo la tortuga avanzaba sin detenerse pero lentamente la liebre era muy veloz y viendo fue sacaba una gran ventaja a la tortuga decidio ir parandose y descansando de vez en cuando pero en una de las ocasiones la liebre se fuedo dormida la tortuga poco a poco siguio avanzando cuando la liebre desperto se encontro con fue la tortuga estaba a punto de cruzar la meta aunfue ecxo a correr hue demasiado tarde y hinalmente la tortuga gano la carrera esta habula nos enseña fue el trabajo duro la perseverancia la constancia y el eshuerzo nos llevaran a nuestras metas aunfue sea poco a poco si no nos rendimos tambien nos permite ver como la arrogancia la halta de constancia y el eqceso de seguridad en uno mismo nos puede llevar a perder oportunidades y a no alcanzar nuestras metas\n",
            "\n",
            "70000\tun dia una liebre orgullosa y veloz vio como una tortuga caminaba por el camino y se le acerco la liebre empezo a burlarse de la lentitud del otro animal y de la longitud de sus patas sin embargo la tortuga le respondio fue estaba segura de fue a pesar de la gran velocidad de la liebre era capaz de ganarla en una carrera la liebre segura de su victoria y considerando el reto imposible de perder acepto ambos pidieron a la zorra fue señalara la meta a lo fue esta acepto al igual fue al cuervo para fue xiciera de juez al llegar el dia de la competicion al empezar la carrera la liebre y la tortuga salieron al mismo tiempo la tortuga avanzaba sin detenerse pero lentamente la liebre era muy veloz y viendo fue sacaba una gran ventaja a la tortuga decidio ir parandose y descansando de vez en cuando pero en una de las ocasiones la liebre se fuedo dormida la tortuga poco a poco siguio avanzando cuando la liebre desperto se encontro con fue la tortuga estaba a punto de cruzar la meta aunfue ecxo a correr hue demasiado tarde y hinalmente la tortuga gano la carrera esta habula nos enseña fue el trabajo duro la perseverancia la constancia y el eshuerzo nos llevaran a nuestras metas aunfue sea poco a poco si no nos rendimos tambien nos permite ver como la arrogancia la halta de constancia y el eqceso de seguridad en uno mismo nos puede llevar a perder oportunidades y a no alcanzar nuestras metas\n",
            "\n",
            "80000\tun dia una liebre orgullosa y veloz vio como una tortuga caminaba por el camino y se le acerco la liebre empezo a burlarse de la lentitud del otro animal y de la longitud de sus patas sin embargo la tortuga le respondio fue estaba segura de fue a pesar de la gran velocidad de la liebre era capaz de ganarla en una carrera la liebre segura de su victoria y considerando el reto imposible de perder acepto ambos pidieron a la zorra fue señalara la meta a lo fue esta acepto al igual fue al cuervo para fue xiciera de juez al llegar el dia de la competicion al empezar la carrera la liebre y la tortuga salieron al mismo tiempo la tortuga avanzaba sin detenerse pero lentamente la liebre era muy veloz y viendo fue sacaba una gran ventaja a la tortuga decidio ir parandose y descansando de vez en cuando pero en una de las ocasiones la liebre se fuedo dormida la tortuga poco a poco siguio avanzando cuando la liebre desperto se encontro con fue la tortuga estaba a punto de cruzar la meta aunfue ecxo a correr hue demasiado tarde y hinalmente la tortuga gano la carrera esta habula nos enseña fue el trabajo duro la perseverancia la constancia y el eshuerzo nos llevaran a nuestras metas aunfue sea poco a poco si no nos rendimos tambien nos permite ver como la arrogancia la halta de constancia y el eqceso de seguridad en uno mismo nos puede llevar a perder oportunidades y a no alcanzar nuestras metas\n",
            "\n",
            "90000\tun dia una liebre orgullosa y veloz vio como una tortuga caminaba por el camino y se le acerco la liebre empezo a burlarse de la lentitud del otro animal y de la longitud de sus patas sin embargo la tortuga le respondio fue estaba segura de fue a pesar de la gran velocidad de la liebre era capaz de ganarla en una carrera la liebre segura de su victoria y considerando el reto imposible de perder acepto ambos pidieron a la zorra fue señalara la meta a lo fue esta acepto al igual fue al cuervo para fue xiciera de juez al llegar el dia de la competicion al empezar la carrera la liebre y la tortuga salieron al mismo tiempo la tortuga avanzaba sin detenerse pero lentamente la liebre era muy veloz y viendo fue sacaba una gran ventaja a la tortuga decidio ir parandose y descansando de vez en cuando pero en una de las ocasiones la liebre se fuedo dormida la tortuga poco a poco siguio avanzando cuando la liebre desperto se encontro con fue la tortuga estaba a punto de cruzar la meta aunfue ecxo a correr hue demasiado tarde y hinalmente la tortuga gano la carrera esta habula nos enseña fue el trabajo duro la perseverancia la constancia y el eshuerzo nos llevaran a nuestras metas aunfue sea poco a poco si no nos rendimos tambien nos permite ver como la arrogancia la halta de constancia y el eqceso de seguridad en uno mismo nos puede llevar a perder oportunidades y a no alcanzar nuestras metas\n",
            "\n",
            "Final decoded: un dia una liebre orgullosa y veloz vio como una tortuga caminaba por el camino y se le acerco la liebre empezo a burlarse de la lentitud del otro animal y de la longitud de sus patas sin embargo la tortuga le respondio fue estaba segura de fue a pesar de la gran velocidad de la liebre era capaz de ganarla en una carrera la liebre segura de su victoria y considerando el reto imposible de perder acepto ambos pidieron a la zorra fue señalara la meta a lo fue esta acepto al igual fue al cuervo para fue xiciera de juez al llegar el dia de la competicion al empezar la carrera la liebre y la tortuga salieron al mismo tiempo la tortuga avanzaba sin detenerse pero lentamente la liebre era muy veloz y viendo fue sacaba una gran ventaja a la tortuga decidio ir parandose y descansando de vez en cuando pero en una de las ocasiones la liebre se fuedo dormida la tortuga poco a poco siguio avanzando cuando la liebre desperto se encontro con fue la tortuga estaba a punto de cruzar la meta aunfue ecxo a correr hue demasiado tarde y hinalmente la tortuga gano la carrera esta habula nos enseña fue el trabajo duro la perseverancia la constancia y el eshuerzo nos llevaran a nuestras metas aunfue sea poco a poco si no nos rendimos tambien nos permite ver como la arrogancia la halta de constancia y el eqceso de seguridad en uno mismo nos puede llevar a perder oportunidades y a no alcanzar nuestras metas\n"
          ]
        },
        {
          "output_type": "execute_result",
          "data": {
            "text/plain": [
              "'un dia una liebre orgullosa y veloz vio como una tortuga caminaba por el camino y se le acerco la liebre empezo a burlarse de la lentitud del otro animal y de la longitud de sus patas sin embargo la tortuga le respondio fue estaba segura de fue a pesar de la gran velocidad de la liebre era capaz de ganarla en una carrera la liebre segura de su victoria y considerando el reto imposible de perder acepto ambos pidieron a la zorra fue señalara la meta a lo fue esta acepto al igual fue al cuervo para fue xiciera de juez al llegar el dia de la competicion al empezar la carrera la liebre y la tortuga salieron al mismo tiempo la tortuga avanzaba sin detenerse pero lentamente la liebre era muy veloz y viendo fue sacaba una gran ventaja a la tortuga decidio ir parandose y descansando de vez en cuando pero en una de las ocasiones la liebre se fuedo dormida la tortuga poco a poco siguio avanzando cuando la liebre desperto se encontro con fue la tortuga estaba a punto de cruzar la meta aunfue ecxo a correr hue demasiado tarde y hinalmente la tortuga gano la carrera esta habula nos enseña fue el trabajo duro la perseverancia la constancia y el eshuerzo nos llevaran a nuestras metas aunfue sea poco a poco si no nos rendimos tambien nos permite ver como la arrogancia la halta de constancia y el eqceso de seguridad en uno mismo nos puede llevar a perder oportunidades y a no alcanzar nuestras metas'"
            ],
            "application/vnd.google.colaboratory.intrinsic+json": {
              "type": "string"
            }
          },
          "metadata": {},
          "execution_count": 62
        }
      ],
      "source": [
        "decode(cipher_text, bigram_table)"
      ]
    }
  ],
  "metadata": {
    "kernelspec": {
      "display_name": "Python 3",
      "language": "python",
      "name": "python3"
    },
    "language_info": {
      "codemirror_mode": {
        "name": "ipython",
        "version": 3
      },
      "file_extension": ".py",
      "mimetype": "text/x-python",
      "name": "python",
      "nbconvert_exporter": "python",
      "pygments_lexer": "ipython3",
      "version": "3.6.10"
    },
    "toc": {
      "base_numbering": 1,
      "nav_menu": {},
      "number_sections": true,
      "sideBar": true,
      "skip_h1_title": false,
      "title_cell": "Table of Contents",
      "title_sidebar": "Contents",
      "toc_cell": false,
      "toc_position": {},
      "toc_section_display": true,
      "toc_window_display": false
    },
    "colab": {
      "provenance": [],
      "name": "Metropolis Hastings para decifrar textos.ipynb",
      "collapsed_sections": [],
      "include_colab_link": true
    }
  },
  "nbformat": 4,
  "nbformat_minor": 0
}